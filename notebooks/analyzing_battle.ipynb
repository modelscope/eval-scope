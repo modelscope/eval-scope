{
 "cells": [
  {
   "attachments": {},
   "cell_type": "markdown",
   "metadata": {},
   "source": [
    "## 两个模型得分比较"
   ]
  },
  {
   "attachments": {},
   "cell_type": "markdown",
   "metadata": {},
   "source": [
    "### Prepare"
   ]
  },
  {
   "cell_type": "code",
   "execution_count": 39,
   "metadata": {},
   "outputs": [],
   "source": [
    "review_file = '../llmuses/registry/data/qa_browser/battle.jsonl'\n",
    "category_map_file = '../llmuses/registry/data/qa_browser/category_mapping.yaml'"
   ]
  },
  {
   "cell_type": "code",
   "execution_count": 40,
   "metadata": {},
   "outputs": [],
   "source": [
    "import pandas as pd\n",
    "import json\n",
    "import yaml\n",
    "\n",
    "def read_yaml(yaml_file) -> dict:\n",
    "    \"\"\"\n",
    "    Read yaml file to dict.\n",
    "    \"\"\"\n",
    "    with open(yaml_file, \"r\") as f:\n",
    "        try:\n",
    "            stream = yaml.safe_load(f)\n",
    "        except yaml.YAMLError as e:\n",
    "            print(e)\n",
    "            raise e\n",
    "\n",
    "    return stream\n",
    "\n",
    "def read_jsonl(input_file):\n",
    "    all_data = []\n",
    "    with open(input_file, 'r') as input_jsonl:\n",
    "        for line in input_jsonl:\n",
    "            data = json.loads(line)\n",
    "            all_data.append(data)\n",
    "\n",
    "    return all_data\n",
    "\n",
    "def cat_view(df, category, model_a,model_b):\n",
    "    coding_df = df[df['category'] == category]\n",
    "\n",
    "    scores_a = coding_df[coding_df['model_a'] == model_a]['scores']\n",
    "    scores_b = coding_df[coding_df['model_a'] != model_a]['scores'].apply(lambda x: [x[1], x[0]])\n",
    "\n",
    "    score_a = 0\n",
    "    score_b = 0\n",
    "    for i in range(len(scores_a)):\n",
    "        score_a += scores_a.iloc[i][0]\n",
    "        score_b += scores_a.iloc[i][1]\n",
    "\n",
    "    for i in range(len(scores_b)):\n",
    "        score_a += scores_b.iloc[i][0]\n",
    "        score_b += scores_b.iloc[i][1]\n",
    "\n",
    "    return dict(\n",
    "        category=category,\n",
    "        count=len(coding_df),\n",
    "        model_a=score_a,\n",
    "        model_b=score_b\n",
    "    )\n",
    "\n",
    "def get_color(value):\n",
    "    good_thresholds = [0.2, 0.1, 0.05]\n",
    "    bad_thresholds = [-0.2, -0.1, -0.05]\n",
    "    good_colors = ['#32CD32', '#98FF98', '#D0F0C0']\n",
    "    bad_colors = ['#FF6347', '#FA8072', '#ffcccb']\n",
    "    color = ''\n",
    "    for i in range(len(good_thresholds)):\n",
    "        if value > good_thresholds[i]:\n",
    "            color = good_colors[i]\n",
    "            break\n",
    "    for i in range(len(bad_thresholds)):\n",
    "        if value < bad_thresholds[i]:\n",
    "            color = bad_colors[i]\n",
    "            break\n",
    "    return 'background-color: %s' % color if color else ''\n",
    "\n",
    "def get_table_view(df):\n",
    "    model_a = df.loc[0, 'model_a']\n",
    "    model_b = df.loc[0, 'model_b']\n",
    "\n",
    "    cat_data = [cat_view(df, category, model_a, model_b) for category in df['category'].unique().tolist()]\n",
    "    cat_df = pd.DataFrame(cat_data)\n",
    "    score_a = cat_df['model_a'].sum()\n",
    "    score_b = cat_df['model_b'].sum()\n",
    "\n",
    "    cat_df['model_a'] = cat_df.apply(lambda x: x['model_a'] / x['count'], axis=1)\n",
    "    cat_df['model_b'] = cat_df.apply(lambda x: x['model_b'] / x['count'], axis=1)\n",
    "    cat_df['count'] = cat_df['count'].apply(lambda x: int(x / 2))\n",
    "    cat_df['score diff'] = cat_df.apply(lambda x: (x['model_b'] - x['model_a']) / x['model_a'], axis=1)\n",
    "    cat_df.sort_values(by='model_a', ascending=False, inplace=True, ignore_index=True)\n",
    "\n",
    "    cat_df.loc[cat_df.shape[0]] = ['总计', int(len(df) / 2), score_a / len(df), score_b / len(df), (score_b - score_a) / score_a]\n",
    "\n",
    "    cat_df.rename(columns={'model_a': model_a, 'model_b': model_b}, inplace=True)\n",
    "    cat_df = cat_df.style.format({\n",
    "        model_a: \"{:.2f}\",\n",
    "        model_b: \"{:.2f}\",\n",
    "        'score diff': \"{:.2%}\",\n",
    "    }).applymap(get_color, subset=['score diff'])\n",
    "    return cat_df"
   ]
  },
  {
   "attachments": {},
   "cell_type": "markdown",
   "metadata": {},
   "source": [
    "### 分类别比较"
   ]
  },
  {
   "cell_type": "code",
   "execution_count": 41,
   "metadata": {},
   "outputs": [],
   "source": [
    "import os\n",
    "\n",
    "def get_category_map(category_file):\n",
    "    if not category_file or not os.path.exists(category_file):\n",
    "        return dict()\n",
    "\n",
    "    category_mapping = read_yaml(category_file)\n",
    "    return category_mapping\n",
    "\n",
    "\n",
    "category_map = get_category_map(category_map_file)\n",
    "\n",
    "def get_category_group(category):\n",
    "    for key, value in category_map.items():\n",
    "        if category in value:\n",
    "            return key\n",
    "    return '其他'"
   ]
  },
  {
   "cell_type": "code",
   "execution_count": 42,
   "metadata": {},
   "outputs": [
    {
     "data": {
      "text/html": [
       "<style type=\"text/css\">\n",
       "#T_6bff0_row6_col4 {\n",
       "  background-color: #32CD32;\n",
       "}\n",
       "#T_6bff0_row7_col4, #T_6bff0_row8_col4 {\n",
       "  background-color: #98FF98;\n",
       "}\n",
       "</style>\n",
       "<table id=\"T_6bff0\">\n",
       "  <thead>\n",
       "    <tr>\n",
       "      <th class=\"blank level0\" >&nbsp;</th>\n",
       "      <th id=\"T_6bff0_level0_col0\" class=\"col_heading level0 col0\" >category</th>\n",
       "      <th id=\"T_6bff0_level0_col1\" class=\"col_heading level0 col1\" >count</th>\n",
       "      <th id=\"T_6bff0_level0_col2\" class=\"col_heading level0 col2\" >50b.v10.15.11</th>\n",
       "      <th id=\"T_6bff0_level0_col3\" class=\"col_heading level0 col3\" >50b.v10.15.13</th>\n",
       "      <th id=\"T_6bff0_level0_col4\" class=\"col_heading level0 col4\" >score diff</th>\n",
       "    </tr>\n",
       "  </thead>\n",
       "  <tbody>\n",
       "    <tr>\n",
       "      <th id=\"T_6bff0_level0_row0\" class=\"row_heading level0 row0\" >0</th>\n",
       "      <td id=\"T_6bff0_row0_col0\" class=\"data row0 col0\" >安全风险</td>\n",
       "      <td id=\"T_6bff0_row0_col1\" class=\"data row0 col1\" >10</td>\n",
       "      <td id=\"T_6bff0_row0_col2\" class=\"data row0 col2\" >8.35</td>\n",
       "      <td id=\"T_6bff0_row0_col3\" class=\"data row0 col3\" >8.75</td>\n",
       "      <td id=\"T_6bff0_row0_col4\" class=\"data row0 col4\" >4.79%</td>\n",
       "    </tr>\n",
       "    <tr>\n",
       "      <th id=\"T_6bff0_level0_row1\" class=\"row_heading level0 row1\" >1</th>\n",
       "      <td id=\"T_6bff0_row1_col0\" class=\"data row1 col0\" >文本生成</td>\n",
       "      <td id=\"T_6bff0_row1_col1\" class=\"data row1 col1\" >94</td>\n",
       "      <td id=\"T_6bff0_row1_col2\" class=\"data row1 col2\" >8.06</td>\n",
       "      <td id=\"T_6bff0_row1_col3\" class=\"data row1 col3\" >8.04</td>\n",
       "      <td id=\"T_6bff0_row1_col4\" class=\"data row1 col4\" >-0.33%</td>\n",
       "    </tr>\n",
       "    <tr>\n",
       "      <th id=\"T_6bff0_level0_row2\" class=\"row_heading level0 row2\" >2</th>\n",
       "      <td id=\"T_6bff0_row2_col0\" class=\"data row2 col0\" >其他</td>\n",
       "      <td id=\"T_6bff0_row2_col1\" class=\"data row2 col1\" >19</td>\n",
       "      <td id=\"T_6bff0_row2_col2\" class=\"data row2 col2\" >7.72</td>\n",
       "      <td id=\"T_6bff0_row2_col3\" class=\"data row2 col3\" >7.58</td>\n",
       "      <td id=\"T_6bff0_row2_col4\" class=\"data row2 col4\" >-1.87%</td>\n",
       "    </tr>\n",
       "    <tr>\n",
       "      <th id=\"T_6bff0_level0_row3\" class=\"row_heading level0 row3\" >3</th>\n",
       "      <td id=\"T_6bff0_row3_col0\" class=\"data row3 col0\" >知识问答</td>\n",
       "      <td id=\"T_6bff0_row3_col1\" class=\"data row3 col1\" >66</td>\n",
       "      <td id=\"T_6bff0_row3_col2\" class=\"data row3 col2\" >7.55</td>\n",
       "      <td id=\"T_6bff0_row3_col3\" class=\"data row3 col3\" >7.81</td>\n",
       "      <td id=\"T_6bff0_row3_col4\" class=\"data row3 col4\" >3.46%</td>\n",
       "    </tr>\n",
       "    <tr>\n",
       "      <th id=\"T_6bff0_level0_row4\" class=\"row_heading level0 row4\" >4</th>\n",
       "      <td id=\"T_6bff0_row4_col0\" class=\"data row4 col0\" >文本理解</td>\n",
       "      <td id=\"T_6bff0_row4_col1\" class=\"data row4 col1\" >57</td>\n",
       "      <td id=\"T_6bff0_row4_col2\" class=\"data row4 col2\" >7.48</td>\n",
       "      <td id=\"T_6bff0_row4_col3\" class=\"data row4 col3\" >7.53</td>\n",
       "      <td id=\"T_6bff0_row4_col4\" class=\"data row4 col4\" >0.70%</td>\n",
       "    </tr>\n",
       "    <tr>\n",
       "      <th id=\"T_6bff0_level0_row5\" class=\"row_heading level0 row5\" >5</th>\n",
       "      <td id=\"T_6bff0_row5_col0\" class=\"data row5 col0\" >翻译</td>\n",
       "      <td id=\"T_6bff0_row5_col1\" class=\"data row5 col1\" >11</td>\n",
       "      <td id=\"T_6bff0_row5_col2\" class=\"data row5 col2\" >7.05</td>\n",
       "      <td id=\"T_6bff0_row5_col3\" class=\"data row5 col3\" >6.77</td>\n",
       "      <td id=\"T_6bff0_row5_col4\" class=\"data row5 col4\" >-3.87%</td>\n",
       "    </tr>\n",
       "    <tr>\n",
       "      <th id=\"T_6bff0_level0_row6\" class=\"row_heading level0 row6\" >6</th>\n",
       "      <td id=\"T_6bff0_row6_col0\" class=\"data row6 col0\" >CODING</td>\n",
       "      <td id=\"T_6bff0_row6_col1\" class=\"data row6 col1\" >16</td>\n",
       "      <td id=\"T_6bff0_row6_col2\" class=\"data row6 col2\" >5.44</td>\n",
       "      <td id=\"T_6bff0_row6_col3\" class=\"data row6 col3\" >7.41</td>\n",
       "      <td id=\"T_6bff0_row6_col4\" class=\"data row6 col4\" >36.21%</td>\n",
       "    </tr>\n",
       "    <tr>\n",
       "      <th id=\"T_6bff0_level0_row7\" class=\"row_heading level0 row7\" >7</th>\n",
       "      <td id=\"T_6bff0_row7_col0\" class=\"data row7 col0\" >逻辑推理</td>\n",
       "      <td id=\"T_6bff0_row7_col1\" class=\"data row7 col1\" >24</td>\n",
       "      <td id=\"T_6bff0_row7_col2\" class=\"data row7 col2\" >5.40</td>\n",
       "      <td id=\"T_6bff0_row7_col3\" class=\"data row7 col3\" >6.42</td>\n",
       "      <td id=\"T_6bff0_row7_col4\" class=\"data row7 col4\" >18.92%</td>\n",
       "    </tr>\n",
       "    <tr>\n",
       "      <th id=\"T_6bff0_level0_row8\" class=\"row_heading level0 row8\" >8</th>\n",
       "      <td id=\"T_6bff0_row8_col0\" class=\"data row8 col0\" >数学解题</td>\n",
       "      <td id=\"T_6bff0_row8_col1\" class=\"data row8 col1\" >20</td>\n",
       "      <td id=\"T_6bff0_row8_col2\" class=\"data row8 col2\" >5.25</td>\n",
       "      <td id=\"T_6bff0_row8_col3\" class=\"data row8 col3\" >5.88</td>\n",
       "      <td id=\"T_6bff0_row8_col4\" class=\"data row8 col4\" >11.90%</td>\n",
       "    </tr>\n",
       "    <tr>\n",
       "      <th id=\"T_6bff0_level0_row9\" class=\"row_heading level0 row9\" >9</th>\n",
       "      <td id=\"T_6bff0_row9_col0\" class=\"data row9 col0\" >总计</td>\n",
       "      <td id=\"T_6bff0_row9_col1\" class=\"data row9 col1\" >317</td>\n",
       "      <td id=\"T_6bff0_row9_col2\" class=\"data row9 col2\" >7.29</td>\n",
       "      <td id=\"T_6bff0_row9_col3\" class=\"data row9 col3\" >7.56</td>\n",
       "      <td id=\"T_6bff0_row9_col4\" class=\"data row9 col4\" >3.66%</td>\n",
       "    </tr>\n",
       "  </tbody>\n",
       "</table>\n"
      ],
      "text/plain": [
       "<pandas.io.formats.style.Styler at 0x7fc81570a7d0>"
      ]
     },
     "execution_count": 42,
     "metadata": {},
     "output_type": "execute_result"
    }
   ],
   "source": [
    "data = read_jsonl(review_file)\n",
    "df = pd.DataFrame(data)\n",
    "df = df[['model_a', 'model_b', 'scores', 'category', 'question', 'output_a', 'output_b']]\n",
    "\n",
    "df['category'] = df['category'].apply(get_category_group)\n",
    "\n",
    "table_df = get_table_view(df)\n",
    "table_df\n"
   ]
  },
  {
   "cell_type": "code",
   "execution_count": 43,
   "metadata": {},
   "outputs": [
    {
     "data": {
      "application/vnd.plotly.v1+json": {
       "config": {
        "plotlyServerURL": "https://plot.ly"
       },
       "data": [
        {
         "fill": "toself",
         "name": "50b.v10.15.11",
         "r": [
          5.4375,
          7.723684210526316,
          8.35,
          5.25,
          7.478070175438597,
          8.063829787234043,
          7.549242424242424,
          7.045454545454546,
          5.395833333333333
         ],
         "theta": [
          "CODING",
          "其他",
          "安全风险",
          "数学解题",
          "文本理解",
          "文本生成",
          "知识问答",
          "翻译",
          "逻辑推理"
         ],
         "type": "scatterpolar"
        },
        {
         "fill": "toself",
         "name": "50b.v10.15.13",
         "r": [
          7.40625,
          7.578947368421052,
          8.75,
          5.875,
          7.530701754385965,
          8.037234042553191,
          7.8106060606060606,
          6.7727272727272725,
          6.416666666666667
         ],
         "theta": [
          "CODING",
          "其他",
          "安全风险",
          "数学解题",
          "文本理解",
          "文本生成",
          "知识问答",
          "翻译",
          "逻辑推理"
         ],
         "type": "scatterpolar"
        }
       ],
       "layout": {
        "polar": {
         "radialaxis": {
          "range": [
           0,
           10
          ],
          "visible": true
         }
        },
        "showlegend": true,
        "template": {
         "data": {
          "bar": [
           {
            "error_x": {
             "color": "#2a3f5f"
            },
            "error_y": {
             "color": "#2a3f5f"
            },
            "marker": {
             "line": {
              "color": "#E5ECF6",
              "width": 0.5
             },
             "pattern": {
              "fillmode": "overlay",
              "size": 10,
              "solidity": 0.2
             }
            },
            "type": "bar"
           }
          ],
          "barpolar": [
           {
            "marker": {
             "line": {
              "color": "#E5ECF6",
              "width": 0.5
             },
             "pattern": {
              "fillmode": "overlay",
              "size": 10,
              "solidity": 0.2
             }
            },
            "type": "barpolar"
           }
          ],
          "carpet": [
           {
            "aaxis": {
             "endlinecolor": "#2a3f5f",
             "gridcolor": "white",
             "linecolor": "white",
             "minorgridcolor": "white",
             "startlinecolor": "#2a3f5f"
            },
            "baxis": {
             "endlinecolor": "#2a3f5f",
             "gridcolor": "white",
             "linecolor": "white",
             "minorgridcolor": "white",
             "startlinecolor": "#2a3f5f"
            },
            "type": "carpet"
           }
          ],
          "choropleth": [
           {
            "colorbar": {
             "outlinewidth": 0,
             "ticks": ""
            },
            "type": "choropleth"
           }
          ],
          "contour": [
           {
            "colorbar": {
             "outlinewidth": 0,
             "ticks": ""
            },
            "colorscale": [
             [
              0,
              "#0d0887"
             ],
             [
              0.1111111111111111,
              "#46039f"
             ],
             [
              0.2222222222222222,
              "#7201a8"
             ],
             [
              0.3333333333333333,
              "#9c179e"
             ],
             [
              0.4444444444444444,
              "#bd3786"
             ],
             [
              0.5555555555555556,
              "#d8576b"
             ],
             [
              0.6666666666666666,
              "#ed7953"
             ],
             [
              0.7777777777777778,
              "#fb9f3a"
             ],
             [
              0.8888888888888888,
              "#fdca26"
             ],
             [
              1,
              "#f0f921"
             ]
            ],
            "type": "contour"
           }
          ],
          "contourcarpet": [
           {
            "colorbar": {
             "outlinewidth": 0,
             "ticks": ""
            },
            "type": "contourcarpet"
           }
          ],
          "heatmap": [
           {
            "colorbar": {
             "outlinewidth": 0,
             "ticks": ""
            },
            "colorscale": [
             [
              0,
              "#0d0887"
             ],
             [
              0.1111111111111111,
              "#46039f"
             ],
             [
              0.2222222222222222,
              "#7201a8"
             ],
             [
              0.3333333333333333,
              "#9c179e"
             ],
             [
              0.4444444444444444,
              "#bd3786"
             ],
             [
              0.5555555555555556,
              "#d8576b"
             ],
             [
              0.6666666666666666,
              "#ed7953"
             ],
             [
              0.7777777777777778,
              "#fb9f3a"
             ],
             [
              0.8888888888888888,
              "#fdca26"
             ],
             [
              1,
              "#f0f921"
             ]
            ],
            "type": "heatmap"
           }
          ],
          "heatmapgl": [
           {
            "colorbar": {
             "outlinewidth": 0,
             "ticks": ""
            },
            "colorscale": [
             [
              0,
              "#0d0887"
             ],
             [
              0.1111111111111111,
              "#46039f"
             ],
             [
              0.2222222222222222,
              "#7201a8"
             ],
             [
              0.3333333333333333,
              "#9c179e"
             ],
             [
              0.4444444444444444,
              "#bd3786"
             ],
             [
              0.5555555555555556,
              "#d8576b"
             ],
             [
              0.6666666666666666,
              "#ed7953"
             ],
             [
              0.7777777777777778,
              "#fb9f3a"
             ],
             [
              0.8888888888888888,
              "#fdca26"
             ],
             [
              1,
              "#f0f921"
             ]
            ],
            "type": "heatmapgl"
           }
          ],
          "histogram": [
           {
            "marker": {
             "pattern": {
              "fillmode": "overlay",
              "size": 10,
              "solidity": 0.2
             }
            },
            "type": "histogram"
           }
          ],
          "histogram2d": [
           {
            "colorbar": {
             "outlinewidth": 0,
             "ticks": ""
            },
            "colorscale": [
             [
              0,
              "#0d0887"
             ],
             [
              0.1111111111111111,
              "#46039f"
             ],
             [
              0.2222222222222222,
              "#7201a8"
             ],
             [
              0.3333333333333333,
              "#9c179e"
             ],
             [
              0.4444444444444444,
              "#bd3786"
             ],
             [
              0.5555555555555556,
              "#d8576b"
             ],
             [
              0.6666666666666666,
              "#ed7953"
             ],
             [
              0.7777777777777778,
              "#fb9f3a"
             ],
             [
              0.8888888888888888,
              "#fdca26"
             ],
             [
              1,
              "#f0f921"
             ]
            ],
            "type": "histogram2d"
           }
          ],
          "histogram2dcontour": [
           {
            "colorbar": {
             "outlinewidth": 0,
             "ticks": ""
            },
            "colorscale": [
             [
              0,
              "#0d0887"
             ],
             [
              0.1111111111111111,
              "#46039f"
             ],
             [
              0.2222222222222222,
              "#7201a8"
             ],
             [
              0.3333333333333333,
              "#9c179e"
             ],
             [
              0.4444444444444444,
              "#bd3786"
             ],
             [
              0.5555555555555556,
              "#d8576b"
             ],
             [
              0.6666666666666666,
              "#ed7953"
             ],
             [
              0.7777777777777778,
              "#fb9f3a"
             ],
             [
              0.8888888888888888,
              "#fdca26"
             ],
             [
              1,
              "#f0f921"
             ]
            ],
            "type": "histogram2dcontour"
           }
          ],
          "mesh3d": [
           {
            "colorbar": {
             "outlinewidth": 0,
             "ticks": ""
            },
            "type": "mesh3d"
           }
          ],
          "parcoords": [
           {
            "line": {
             "colorbar": {
              "outlinewidth": 0,
              "ticks": ""
             }
            },
            "type": "parcoords"
           }
          ],
          "pie": [
           {
            "automargin": true,
            "type": "pie"
           }
          ],
          "scatter": [
           {
            "fillpattern": {
             "fillmode": "overlay",
             "size": 10,
             "solidity": 0.2
            },
            "type": "scatter"
           }
          ],
          "scatter3d": [
           {
            "line": {
             "colorbar": {
              "outlinewidth": 0,
              "ticks": ""
             }
            },
            "marker": {
             "colorbar": {
              "outlinewidth": 0,
              "ticks": ""
             }
            },
            "type": "scatter3d"
           }
          ],
          "scattercarpet": [
           {
            "marker": {
             "colorbar": {
              "outlinewidth": 0,
              "ticks": ""
             }
            },
            "type": "scattercarpet"
           }
          ],
          "scattergeo": [
           {
            "marker": {
             "colorbar": {
              "outlinewidth": 0,
              "ticks": ""
             }
            },
            "type": "scattergeo"
           }
          ],
          "scattergl": [
           {
            "marker": {
             "colorbar": {
              "outlinewidth": 0,
              "ticks": ""
             }
            },
            "type": "scattergl"
           }
          ],
          "scattermapbox": [
           {
            "marker": {
             "colorbar": {
              "outlinewidth": 0,
              "ticks": ""
             }
            },
            "type": "scattermapbox"
           }
          ],
          "scatterpolar": [
           {
            "marker": {
             "colorbar": {
              "outlinewidth": 0,
              "ticks": ""
             }
            },
            "type": "scatterpolar"
           }
          ],
          "scatterpolargl": [
           {
            "marker": {
             "colorbar": {
              "outlinewidth": 0,
              "ticks": ""
             }
            },
            "type": "scatterpolargl"
           }
          ],
          "scatterternary": [
           {
            "marker": {
             "colorbar": {
              "outlinewidth": 0,
              "ticks": ""
             }
            },
            "type": "scatterternary"
           }
          ],
          "surface": [
           {
            "colorbar": {
             "outlinewidth": 0,
             "ticks": ""
            },
            "colorscale": [
             [
              0,
              "#0d0887"
             ],
             [
              0.1111111111111111,
              "#46039f"
             ],
             [
              0.2222222222222222,
              "#7201a8"
             ],
             [
              0.3333333333333333,
              "#9c179e"
             ],
             [
              0.4444444444444444,
              "#bd3786"
             ],
             [
              0.5555555555555556,
              "#d8576b"
             ],
             [
              0.6666666666666666,
              "#ed7953"
             ],
             [
              0.7777777777777778,
              "#fb9f3a"
             ],
             [
              0.8888888888888888,
              "#fdca26"
             ],
             [
              1,
              "#f0f921"
             ]
            ],
            "type": "surface"
           }
          ],
          "table": [
           {
            "cells": {
             "fill": {
              "color": "#EBF0F8"
             },
             "line": {
              "color": "white"
             }
            },
            "header": {
             "fill": {
              "color": "#C8D4E3"
             },
             "line": {
              "color": "white"
             }
            },
            "type": "table"
           }
          ]
         },
         "layout": {
          "annotationdefaults": {
           "arrowcolor": "#2a3f5f",
           "arrowhead": 0,
           "arrowwidth": 1
          },
          "autotypenumbers": "strict",
          "coloraxis": {
           "colorbar": {
            "outlinewidth": 0,
            "ticks": ""
           }
          },
          "colorscale": {
           "diverging": [
            [
             0,
             "#8e0152"
            ],
            [
             0.1,
             "#c51b7d"
            ],
            [
             0.2,
             "#de77ae"
            ],
            [
             0.3,
             "#f1b6da"
            ],
            [
             0.4,
             "#fde0ef"
            ],
            [
             0.5,
             "#f7f7f7"
            ],
            [
             0.6,
             "#e6f5d0"
            ],
            [
             0.7,
             "#b8e186"
            ],
            [
             0.8,
             "#7fbc41"
            ],
            [
             0.9,
             "#4d9221"
            ],
            [
             1,
             "#276419"
            ]
           ],
           "sequential": [
            [
             0,
             "#0d0887"
            ],
            [
             0.1111111111111111,
             "#46039f"
            ],
            [
             0.2222222222222222,
             "#7201a8"
            ],
            [
             0.3333333333333333,
             "#9c179e"
            ],
            [
             0.4444444444444444,
             "#bd3786"
            ],
            [
             0.5555555555555556,
             "#d8576b"
            ],
            [
             0.6666666666666666,
             "#ed7953"
            ],
            [
             0.7777777777777778,
             "#fb9f3a"
            ],
            [
             0.8888888888888888,
             "#fdca26"
            ],
            [
             1,
             "#f0f921"
            ]
           ],
           "sequentialminus": [
            [
             0,
             "#0d0887"
            ],
            [
             0.1111111111111111,
             "#46039f"
            ],
            [
             0.2222222222222222,
             "#7201a8"
            ],
            [
             0.3333333333333333,
             "#9c179e"
            ],
            [
             0.4444444444444444,
             "#bd3786"
            ],
            [
             0.5555555555555556,
             "#d8576b"
            ],
            [
             0.6666666666666666,
             "#ed7953"
            ],
            [
             0.7777777777777778,
             "#fb9f3a"
            ],
            [
             0.8888888888888888,
             "#fdca26"
            ],
            [
             1,
             "#f0f921"
            ]
           ]
          },
          "colorway": [
           "#636efa",
           "#EF553B",
           "#00cc96",
           "#ab63fa",
           "#FFA15A",
           "#19d3f3",
           "#FF6692",
           "#B6E880",
           "#FF97FF",
           "#FECB52"
          ],
          "font": {
           "color": "#2a3f5f"
          },
          "geo": {
           "bgcolor": "white",
           "lakecolor": "white",
           "landcolor": "#E5ECF6",
           "showlakes": true,
           "showland": true,
           "subunitcolor": "white"
          },
          "hoverlabel": {
           "align": "left"
          },
          "hovermode": "closest",
          "mapbox": {
           "style": "light"
          },
          "paper_bgcolor": "white",
          "plot_bgcolor": "#E5ECF6",
          "polar": {
           "angularaxis": {
            "gridcolor": "white",
            "linecolor": "white",
            "ticks": ""
           },
           "bgcolor": "#E5ECF6",
           "radialaxis": {
            "gridcolor": "white",
            "linecolor": "white",
            "ticks": ""
           }
          },
          "scene": {
           "xaxis": {
            "backgroundcolor": "#E5ECF6",
            "gridcolor": "white",
            "gridwidth": 2,
            "linecolor": "white",
            "showbackground": true,
            "ticks": "",
            "zerolinecolor": "white"
           },
           "yaxis": {
            "backgroundcolor": "#E5ECF6",
            "gridcolor": "white",
            "gridwidth": 2,
            "linecolor": "white",
            "showbackground": true,
            "ticks": "",
            "zerolinecolor": "white"
           },
           "zaxis": {
            "backgroundcolor": "#E5ECF6",
            "gridcolor": "white",
            "gridwidth": 2,
            "linecolor": "white",
            "showbackground": true,
            "ticks": "",
            "zerolinecolor": "white"
           }
          },
          "shapedefaults": {
           "line": {
            "color": "#2a3f5f"
           }
          },
          "ternary": {
           "aaxis": {
            "gridcolor": "white",
            "linecolor": "white",
            "ticks": ""
           },
           "baxis": {
            "gridcolor": "white",
            "linecolor": "white",
            "ticks": ""
           },
           "bgcolor": "#E5ECF6",
           "caxis": {
            "gridcolor": "white",
            "linecolor": "white",
            "ticks": ""
           }
          },
          "title": {
           "x": 0.05
          },
          "xaxis": {
           "automargin": true,
           "gridcolor": "white",
           "linecolor": "white",
           "ticks": "",
           "title": {
            "standoff": 15
           },
           "zerolinecolor": "white",
           "zerolinewidth": 2
          },
          "yaxis": {
           "automargin": true,
           "gridcolor": "white",
           "linecolor": "white",
           "ticks": "",
           "title": {
            "standoff": 15
           },
           "zerolinecolor": "white",
           "zerolinewidth": 2
          }
         }
        }
       }
      }
     },
     "metadata": {},
     "output_type": "display_data"
    }
   ],
   "source": [
    "import plotly.graph_objects as go\n",
    "\n",
    "score_list = []\n",
    "for index, row in df.iterrows():\n",
    "    score_list.append(dict(model=row['model_a'], category=row['category'], score=row['scores'][0]))\n",
    "    score_list.append(dict(model=row['model_b'], category=row['category'], score=row['scores'][1]))\n",
    "\n",
    "score_df = pd.DataFrame(score_list)\n",
    "df_agg = score_df.groupby([\"model\", \"category\"])[\"score\"].mean().reset_index()\n",
    "\n",
    "pivot_df = (\n",
    "    df_agg.pivot(index=\"model\", columns=\"category\", values=\"score\")\n",
    "    .fillna(0)\n",
    ")\n",
    "\n",
    "categories = pivot_df.columns.tolist()\n",
    "\n",
    "fig = go.Figure()\n",
    "\n",
    "for model in pivot_df.index.tolist():\n",
    "    fig.add_trace(\n",
    "        go.Scatterpolar(\n",
    "            r=pivot_df[pivot_df.index == model].values.tolist()[0],\n",
    "            theta=categories,\n",
    "            fill=\"toself\",\n",
    "            name=model,\n",
    "        )\n",
    "    )\n",
    "\n",
    "fig.update_layout(\n",
    "    polar=dict(radialaxis=dict(visible=True, range=[0, 10])), showlegend=True\n",
    ")\n",
    "fig.show()"
   ]
  },
  {
   "attachments": {},
   "cell_type": "markdown",
   "metadata": {},
   "source": [
    "### 原始类别比较"
   ]
  },
  {
   "cell_type": "code",
   "execution_count": 44,
   "metadata": {},
   "outputs": [
    {
     "data": {
      "text/html": [
       "<style type=\"text/css\">\n",
       "#T_9aa46_row0_col4 {\n",
       "  background-color: #FF6347;\n",
       "}\n",
       "#T_9aa46_row1_col4, #T_9aa46_row6_col4, #T_9aa46_row16_col4 {\n",
       "  background-color: #FA8072;\n",
       "}\n",
       "#T_9aa46_row2_col4, #T_9aa46_row10_col4, #T_9aa46_row12_col4, #T_9aa46_row18_col4, #T_9aa46_row22_col4 {\n",
       "  background-color: #D0F0C0;\n",
       "}\n",
       "#T_9aa46_row5_col4, #T_9aa46_row9_col4 {\n",
       "  background-color: #ffcccb;\n",
       "}\n",
       "#T_9aa46_row19_col4, #T_9aa46_row20_col4, #T_9aa46_row24_col4 {\n",
       "  background-color: #98FF98;\n",
       "}\n",
       "#T_9aa46_row21_col4, #T_9aa46_row23_col4, #T_9aa46_row25_col4, #T_9aa46_row26_col4 {\n",
       "  background-color: #32CD32;\n",
       "}\n",
       "</style>\n",
       "<table id=\"T_9aa46\">\n",
       "  <thead>\n",
       "    <tr>\n",
       "      <th class=\"blank level0\" >&nbsp;</th>\n",
       "      <th id=\"T_9aa46_level0_col0\" class=\"col_heading level0 col0\" >category</th>\n",
       "      <th id=\"T_9aa46_level0_col1\" class=\"col_heading level0 col1\" >count</th>\n",
       "      <th id=\"T_9aa46_level0_col2\" class=\"col_heading level0 col2\" >50b.v10.15.11</th>\n",
       "      <th id=\"T_9aa46_level0_col3\" class=\"col_heading level0 col3\" >50b.v10.15.13</th>\n",
       "      <th id=\"T_9aa46_level0_col4\" class=\"col_heading level0 col4\" >score diff</th>\n",
       "    </tr>\n",
       "  </thead>\n",
       "  <tbody>\n",
       "    <tr>\n",
       "      <th id=\"T_9aa46_level0_row0\" class=\"row_heading level0 row0\" >0</th>\n",
       "      <td id=\"T_9aa46_row0_col0\" class=\"data row0 col0\" >续写生成</td>\n",
       "      <td id=\"T_9aa46_row0_col1\" class=\"data row0 col1\" >9</td>\n",
       "      <td id=\"T_9aa46_row0_col2\" class=\"data row0 col2\" >8.61</td>\n",
       "      <td id=\"T_9aa46_row0_col3\" class=\"data row0 col3\" >6.33</td>\n",
       "      <td id=\"T_9aa46_row0_col4\" class=\"data row0 col4\" >-26.45%</td>\n",
       "    </tr>\n",
       "    <tr>\n",
       "      <th id=\"T_9aa46_level0_row1\" class=\"row_heading level0 row1\" >1</th>\n",
       "      <td id=\"T_9aa46_row1_col0\" class=\"data row1 col0\" >图像</td>\n",
       "      <td id=\"T_9aa46_row1_col1\" class=\"data row1 col1\" >1</td>\n",
       "      <td id=\"T_9aa46_row1_col2\" class=\"data row1 col2\" >8.50</td>\n",
       "      <td id=\"T_9aa46_row1_col3\" class=\"data row1 col3\" >7.50</td>\n",
       "      <td id=\"T_9aa46_row1_col4\" class=\"data row1 col4\" >-11.76%</td>\n",
       "    </tr>\n",
       "    <tr>\n",
       "      <th id=\"T_9aa46_level0_row2\" class=\"row_heading level0 row2\" >2</th>\n",
       "      <td id=\"T_9aa46_row2_col0\" class=\"data row2 col0\" >考试教育</td>\n",
       "      <td id=\"T_9aa46_row2_col1\" class=\"data row2 col1\" >2</td>\n",
       "      <td id=\"T_9aa46_row2_col2\" class=\"data row2 col2\" >8.50</td>\n",
       "      <td id=\"T_9aa46_row2_col3\" class=\"data row2 col3\" >9.00</td>\n",
       "      <td id=\"T_9aa46_row2_col4\" class=\"data row2 col4\" >5.88%</td>\n",
       "    </tr>\n",
       "    <tr>\n",
       "      <th id=\"T_9aa46_level0_row3\" class=\"row_heading level0 row3\" >3</th>\n",
       "      <td id=\"T_9aa46_row3_col0\" class=\"data row3 col0\" >有伤害性</td>\n",
       "      <td id=\"T_9aa46_row3_col1\" class=\"data row3 col1\" >10</td>\n",
       "      <td id=\"T_9aa46_row3_col2\" class=\"data row3 col2\" >8.35</td>\n",
       "      <td id=\"T_9aa46_row3_col3\" class=\"data row3 col3\" >8.75</td>\n",
       "      <td id=\"T_9aa46_row3_col4\" class=\"data row3 col4\" >4.79%</td>\n",
       "    </tr>\n",
       "    <tr>\n",
       "      <th id=\"T_9aa46_level0_row4\" class=\"row_heading level0 row4\" >4</th>\n",
       "      <td id=\"T_9aa46_row4_col0\" class=\"data row4 col0\" >通用写作</td>\n",
       "      <td id=\"T_9aa46_row4_col1\" class=\"data row4 col1\" >19</td>\n",
       "      <td id=\"T_9aa46_row4_col2\" class=\"data row4 col2\" >8.29</td>\n",
       "      <td id=\"T_9aa46_row4_col3\" class=\"data row4 col3\" >8.30</td>\n",
       "      <td id=\"T_9aa46_row4_col4\" class=\"data row4 col4\" >0.16%</td>\n",
       "    </tr>\n",
       "    <tr>\n",
       "      <th id=\"T_9aa46_level0_row5\" class=\"row_heading level0 row5\" >5</th>\n",
       "      <td id=\"T_9aa46_row5_col0\" class=\"data row5 col0\" >文本分类</td>\n",
       "      <td id=\"T_9aa46_row5_col1\" class=\"data row5 col1\" >7</td>\n",
       "      <td id=\"T_9aa46_row5_col2\" class=\"data row5 col2\" >8.29</td>\n",
       "      <td id=\"T_9aa46_row5_col3\" class=\"data row5 col3\" >7.79</td>\n",
       "      <td id=\"T_9aa46_row5_col4\" class=\"data row5 col4\" >-6.03%</td>\n",
       "    </tr>\n",
       "    <tr>\n",
       "      <th id=\"T_9aa46_level0_row6\" class=\"row_heading level0 row6\" >6</th>\n",
       "      <td id=\"T_9aa46_row6_col0\" class=\"data row6 col0\" >角色扮演</td>\n",
       "      <td id=\"T_9aa46_row6_col1\" class=\"data row6 col1\" >4</td>\n",
       "      <td id=\"T_9aa46_row6_col2\" class=\"data row6 col2\" >8.25</td>\n",
       "      <td id=\"T_9aa46_row6_col3\" class=\"data row6 col3\" >7.00</td>\n",
       "      <td id=\"T_9aa46_row6_col4\" class=\"data row6 col4\" >-15.15%</td>\n",
       "    </tr>\n",
       "    <tr>\n",
       "      <th id=\"T_9aa46_level0_row7\" class=\"row_heading level0 row7\" >7</th>\n",
       "      <td id=\"T_9aa46_row7_col0\" class=\"data row7 col0\" >情感分析</td>\n",
       "      <td id=\"T_9aa46_row7_col1\" class=\"data row7 col1\" >11</td>\n",
       "      <td id=\"T_9aa46_row7_col2\" class=\"data row7 col2\" >8.23</td>\n",
       "      <td id=\"T_9aa46_row7_col3\" class=\"data row7 col3\" >8.09</td>\n",
       "      <td id=\"T_9aa46_row7_col4\" class=\"data row7 col4\" >-1.66%</td>\n",
       "    </tr>\n",
       "    <tr>\n",
       "      <th id=\"T_9aa46_level0_row8\" class=\"row_heading level0 row8\" >8</th>\n",
       "      <td id=\"T_9aa46_row8_col0\" class=\"data row8 col0\" >AI个人信息</td>\n",
       "      <td id=\"T_9aa46_row8_col1\" class=\"data row8 col1\" >11</td>\n",
       "      <td id=\"T_9aa46_row8_col2\" class=\"data row8 col2\" >8.16</td>\n",
       "      <td id=\"T_9aa46_row8_col3\" class=\"data row8 col3\" >7.77</td>\n",
       "      <td id=\"T_9aa46_row8_col4\" class=\"data row8 col4\" >-4.74%</td>\n",
       "    </tr>\n",
       "    <tr>\n",
       "      <th id=\"T_9aa46_level0_row9\" class=\"row_heading level0 row9\" >9</th>\n",
       "      <td id=\"T_9aa46_row9_col0\" class=\"data row9 col0\" >润色/纠错</td>\n",
       "      <td id=\"T_9aa46_row9_col1\" class=\"data row9 col1\" >6</td>\n",
       "      <td id=\"T_9aa46_row9_col2\" class=\"data row9 col2\" >8.08</td>\n",
       "      <td id=\"T_9aa46_row9_col3\" class=\"data row9 col3\" >7.58</td>\n",
       "      <td id=\"T_9aa46_row9_col4\" class=\"data row9 col4\" >-6.19%</td>\n",
       "    </tr>\n",
       "    <tr>\n",
       "      <th id=\"T_9aa46_level0_row10\" class=\"row_heading level0 row10\" >10</th>\n",
       "      <td id=\"T_9aa46_row10_col0\" class=\"data row10 col0\" >文本摘要</td>\n",
       "      <td id=\"T_9aa46_row10_col1\" class=\"data row10 col1\" >5</td>\n",
       "      <td id=\"T_9aa46_row10_col2\" class=\"data row10 col2\" >8.05</td>\n",
       "      <td id=\"T_9aa46_row10_col3\" class=\"data row10 col3\" >8.60</td>\n",
       "      <td id=\"T_9aa46_row10_col4\" class=\"data row10 col4\" >6.83%</td>\n",
       "    </tr>\n",
       "    <tr>\n",
       "      <th id=\"T_9aa46_level0_row11\" class=\"row_heading level0 row11\" >11</th>\n",
       "      <td id=\"T_9aa46_row11_col0\" class=\"data row11 col0\" >开放对话</td>\n",
       "      <td id=\"T_9aa46_row11_col1\" class=\"data row11 col1\" >8</td>\n",
       "      <td id=\"T_9aa46_row11_col2\" class=\"data row11 col2\" >8.00</td>\n",
       "      <td id=\"T_9aa46_row11_col3\" class=\"data row11 col3\" >8.31</td>\n",
       "      <td id=\"T_9aa46_row11_col4\" class=\"data row11 col4\" >3.91%</td>\n",
       "    </tr>\n",
       "    <tr>\n",
       "      <th id=\"T_9aa46_level0_row12\" class=\"row_heading level0 row12\" >12</th>\n",
       "      <td id=\"T_9aa46_row12_col0\" class=\"data row12 col0\" >头脑风暴</td>\n",
       "      <td id=\"T_9aa46_row12_col1\" class=\"data row12 col1\" >43</td>\n",
       "      <td id=\"T_9aa46_row12_col2\" class=\"data row12 col2\" >7.91</td>\n",
       "      <td id=\"T_9aa46_row12_col3\" class=\"data row12 col3\" >8.37</td>\n",
       "      <td id=\"T_9aa46_row12_col4\" class=\"data row12 col4\" >5.88%</td>\n",
       "    </tr>\n",
       "    <tr>\n",
       "      <th id=\"T_9aa46_level0_row13\" class=\"row_heading level0 row13\" >13</th>\n",
       "      <td id=\"T_9aa46_row13_col0\" class=\"data row13 col0\" >文本点评</td>\n",
       "      <td id=\"T_9aa46_row13_col1\" class=\"data row13 col1\" >10</td>\n",
       "      <td id=\"T_9aa46_row13_col2\" class=\"data row13 col2\" >7.90</td>\n",
       "      <td id=\"T_9aa46_row13_col3\" class=\"data row13 col3\" >7.58</td>\n",
       "      <td id=\"T_9aa46_row13_col4\" class=\"data row13 col4\" >-4.11%</td>\n",
       "    </tr>\n",
       "    <tr>\n",
       "      <th id=\"T_9aa46_level0_row14\" class=\"row_heading level0 row14\" >14</th>\n",
       "      <td id=\"T_9aa46_row14_col0\" class=\"data row14 col0\" >应用文写作</td>\n",
       "      <td id=\"T_9aa46_row14_col1\" class=\"data row14 col1\" >11</td>\n",
       "      <td id=\"T_9aa46_row14_col2\" class=\"data row14 col2\" >7.82</td>\n",
       "      <td id=\"T_9aa46_row14_col3\" class=\"data row14 col3\" >7.84</td>\n",
       "      <td id=\"T_9aa46_row14_col4\" class=\"data row14 col4\" >0.29%</td>\n",
       "    </tr>\n",
       "    <tr>\n",
       "      <th id=\"T_9aa46_level0_row15\" class=\"row_heading level0 row15\" >15</th>\n",
       "      <td id=\"T_9aa46_row15_col0\" class=\"data row15 col0\" >百科知识问答</td>\n",
       "      <td id=\"T_9aa46_row15_col1\" class=\"data row15 col1\" >66</td>\n",
       "      <td id=\"T_9aa46_row15_col2\" class=\"data row15 col2\" >7.55</td>\n",
       "      <td id=\"T_9aa46_row15_col3\" class=\"data row15 col3\" >7.81</td>\n",
       "      <td id=\"T_9aa46_row15_col4\" class=\"data row15 col4\" >3.46%</td>\n",
       "    </tr>\n",
       "    <tr>\n",
       "      <th id=\"T_9aa46_level0_row16\" class=\"row_heading level0 row16\" >16</th>\n",
       "      <td id=\"T_9aa46_row16_col0\" class=\"data row16 col0\" >prompt无法理解</td>\n",
       "      <td id=\"T_9aa46_row16_col1\" class=\"data row16 col1\" >4</td>\n",
       "      <td id=\"T_9aa46_row16_col2\" class=\"data row16 col2\" >7.25</td>\n",
       "      <td id=\"T_9aa46_row16_col3\" class=\"data row16 col3\" >6.12</td>\n",
       "      <td id=\"T_9aa46_row16_col4\" class=\"data row16 col4\" >-15.52%</td>\n",
       "    </tr>\n",
       "    <tr>\n",
       "      <th id=\"T_9aa46_level0_row17\" class=\"row_heading level0 row17\" >17</th>\n",
       "      <td id=\"T_9aa46_row17_col0\" class=\"data row17 col0\" >翻译</td>\n",
       "      <td id=\"T_9aa46_row17_col1\" class=\"data row17 col1\" >11</td>\n",
       "      <td id=\"T_9aa46_row17_col2\" class=\"data row17 col2\" >7.05</td>\n",
       "      <td id=\"T_9aa46_row17_col3\" class=\"data row17 col3\" >6.77</td>\n",
       "      <td id=\"T_9aa46_row17_col4\" class=\"data row17 col4\" >-3.87%</td>\n",
       "    </tr>\n",
       "    <tr>\n",
       "      <th id=\"T_9aa46_level0_row18\" class=\"row_heading level0 row18\" >18</th>\n",
       "      <td id=\"T_9aa46_row18_col0\" class=\"data row18 col0\" >信息抽取</td>\n",
       "      <td id=\"T_9aa46_row18_col1\" class=\"data row18 col1\" >4</td>\n",
       "      <td id=\"T_9aa46_row18_col2\" class=\"data row18 col2\" >6.25</td>\n",
       "      <td id=\"T_9aa46_row18_col3\" class=\"data row18 col3\" >6.75</td>\n",
       "      <td id=\"T_9aa46_row18_col4\" class=\"data row18 col4\" >8.00%</td>\n",
       "    </tr>\n",
       "    <tr>\n",
       "      <th id=\"T_9aa46_level0_row19\" class=\"row_heading level0 row19\" >19</th>\n",
       "      <td id=\"T_9aa46_row19_col0\" class=\"data row19 col0\" >序列处理</td>\n",
       "      <td id=\"T_9aa46_row19_col1\" class=\"data row19 col1\" >11</td>\n",
       "      <td id=\"T_9aa46_row19_col2\" class=\"data row19 col2\" >6.23</td>\n",
       "      <td id=\"T_9aa46_row19_col3\" class=\"data row19 col3\" >6.95</td>\n",
       "      <td id=\"T_9aa46_row19_col4\" class=\"data row19 col4\" >11.68%</td>\n",
       "    </tr>\n",
       "    <tr>\n",
       "      <th id=\"T_9aa46_level0_row20\" class=\"row_heading level0 row20\" >20</th>\n",
       "      <td id=\"T_9aa46_row20_col0\" class=\"data row20 col0\" >阅读理解</td>\n",
       "      <td id=\"T_9aa46_row20_col1\" class=\"data row20 col1\" >12</td>\n",
       "      <td id=\"T_9aa46_row20_col2\" class=\"data row20 col2\" >6.21</td>\n",
       "      <td id=\"T_9aa46_row20_col3\" class=\"data row20 col3\" >7.12</td>\n",
       "      <td id=\"T_9aa46_row20_col4\" class=\"data row20 col4\" >14.77%</td>\n",
       "    </tr>\n",
       "    <tr>\n",
       "      <th id=\"T_9aa46_level0_row21\" class=\"row_heading level0 row21\" >21</th>\n",
       "      <td id=\"T_9aa46_row21_col0\" class=\"data row21 col0\" >表格处理</td>\n",
       "      <td id=\"T_9aa46_row21_col1\" class=\"data row21 col1\" >5</td>\n",
       "      <td id=\"T_9aa46_row21_col2\" class=\"data row21 col2\" >5.50</td>\n",
       "      <td id=\"T_9aa46_row21_col3\" class=\"data row21 col3\" >7.80</td>\n",
       "      <td id=\"T_9aa46_row21_col4\" class=\"data row21 col4\" >41.82%</td>\n",
       "    </tr>\n",
       "    <tr>\n",
       "      <th id=\"T_9aa46_level0_row22\" class=\"row_heading level0 row22\" >22</th>\n",
       "      <td id=\"T_9aa46_row22_col0\" class=\"data row22 col0\" >文本聚类</td>\n",
       "      <td id=\"T_9aa46_row22_col1\" class=\"data row22 col1\" >3</td>\n",
       "      <td id=\"T_9aa46_row22_col2\" class=\"data row22 col2\" >5.50</td>\n",
       "      <td id=\"T_9aa46_row22_col3\" class=\"data row22 col3\" >6.00</td>\n",
       "      <td id=\"T_9aa46_row22_col4\" class=\"data row22 col4\" >9.09%</td>\n",
       "    </tr>\n",
       "    <tr>\n",
       "      <th id=\"T_9aa46_level0_row23\" class=\"row_heading level0 row23\" >23</th>\n",
       "      <td id=\"T_9aa46_row23_col0\" class=\"data row23 col0\" >CODING</td>\n",
       "      <td id=\"T_9aa46_row23_col1\" class=\"data row23 col1\" >11</td>\n",
       "      <td id=\"T_9aa46_row23_col2\" class=\"data row23 col2\" >5.41</td>\n",
       "      <td id=\"T_9aa46_row23_col3\" class=\"data row23 col3\" >7.23</td>\n",
       "      <td id=\"T_9aa46_row23_col4\" class=\"data row23 col4\" >33.61%</td>\n",
       "    </tr>\n",
       "    <tr>\n",
       "      <th id=\"T_9aa46_level0_row24\" class=\"row_heading level0 row24\" >24</th>\n",
       "      <td id=\"T_9aa46_row24_col0\" class=\"data row24 col0\" >数学解题</td>\n",
       "      <td id=\"T_9aa46_row24_col1\" class=\"data row24 col1\" >20</td>\n",
       "      <td id=\"T_9aa46_row24_col2\" class=\"data row24 col2\" >5.25</td>\n",
       "      <td id=\"T_9aa46_row24_col3\" class=\"data row24 col3\" >5.88</td>\n",
       "      <td id=\"T_9aa46_row24_col4\" class=\"data row24 col4\" >11.90%</td>\n",
       "    </tr>\n",
       "    <tr>\n",
       "      <th id=\"T_9aa46_level0_row25\" class=\"row_heading level0 row25\" >25</th>\n",
       "      <td id=\"T_9aa46_row25_col0\" class=\"data row25 col0\" >逻辑推理</td>\n",
       "      <td id=\"T_9aa46_row25_col1\" class=\"data row25 col1\" >12</td>\n",
       "      <td id=\"T_9aa46_row25_col2\" class=\"data row25 col2\" >4.58</td>\n",
       "      <td id=\"T_9aa46_row25_col3\" class=\"data row25 col3\" >5.71</td>\n",
       "      <td id=\"T_9aa46_row25_col4\" class=\"data row25 col4\" >24.55%</td>\n",
       "    </tr>\n",
       "    <tr>\n",
       "      <th id=\"T_9aa46_level0_row26\" class=\"row_heading level0 row26\" >26</th>\n",
       "      <td id=\"T_9aa46_row26_col0\" class=\"data row26 col0\" >时效性</td>\n",
       "      <td id=\"T_9aa46_row26_col1\" class=\"data row26 col1\" >1</td>\n",
       "      <td id=\"T_9aa46_row26_col2\" class=\"data row26 col2\" >2.50</td>\n",
       "      <td id=\"T_9aa46_row26_col3\" class=\"data row26 col3\" >8.50</td>\n",
       "      <td id=\"T_9aa46_row26_col4\" class=\"data row26 col4\" >240.00%</td>\n",
       "    </tr>\n",
       "    <tr>\n",
       "      <th id=\"T_9aa46_level0_row27\" class=\"row_heading level0 row27\" >27</th>\n",
       "      <td id=\"T_9aa46_row27_col0\" class=\"data row27 col0\" >总计</td>\n",
       "      <td id=\"T_9aa46_row27_col1\" class=\"data row27 col1\" >317</td>\n",
       "      <td id=\"T_9aa46_row27_col2\" class=\"data row27 col2\" >7.29</td>\n",
       "      <td id=\"T_9aa46_row27_col3\" class=\"data row27 col3\" >7.56</td>\n",
       "      <td id=\"T_9aa46_row27_col4\" class=\"data row27 col4\" >3.66%</td>\n",
       "    </tr>\n",
       "  </tbody>\n",
       "</table>\n"
      ],
      "text/plain": [
       "<pandas.io.formats.style.Styler at 0x7fc814f93c10>"
      ]
     },
     "execution_count": 44,
     "metadata": {},
     "output_type": "execute_result"
    }
   ],
   "source": [
    "data = read_jsonl(review_file)\n",
    "df_1 = pd.DataFrame(data)\n",
    "df_1 = df_1[['model_a', 'model_b', 'scores', 'category', 'question', 'output_a', 'output_b']]\n",
    "\n",
    "table_df_1 = get_table_view(df_1)\n",
    "table_df_1\n"
   ]
  },
  {
   "cell_type": "code",
   "execution_count": null,
   "metadata": {},
   "outputs": [],
   "source": []
  }
 ],
 "metadata": {
  "kernelspec": {
   "display_name": "streamlit",
   "language": "python",
   "name": "python3"
  },
  "language_info": {
   "codemirror_mode": {
    "name": "ipython",
    "version": 3
   },
   "file_extension": ".py",
   "mimetype": "text/x-python",
   "name": "python",
   "nbconvert_exporter": "python",
   "pygments_lexer": "ipython3",
   "version": "3.10.11"
  },
  "orig_nbformat": 4
 },
 "nbformat": 4,
 "nbformat_minor": 2
}
