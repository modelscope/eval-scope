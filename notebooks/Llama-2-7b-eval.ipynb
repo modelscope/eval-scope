{
 "cells": [
  {
   "cell_type": "code",
   "execution_count": 4,
   "metadata": {
    "execution": {
     "iopub.execute_input": "2023-07-20T18:15:01.173582Z",
     "iopub.status.busy": "2023-07-20T18:15:01.173198Z",
     "iopub.status.idle": "2023-07-20T18:15:08.262946Z",
     "shell.execute_reply": "2023-07-20T18:15:08.262283Z",
     "shell.execute_reply.started": "2023-07-20T18:15:01.173543Z"
    }
   },
   "outputs": [
    {
     "name": "stdout",
     "output_type": "stream",
     "text": [
      "Looking in indexes: https://pypi.tuna.tsinghua.edu.cn/simple\n",
      "Looking in links: https://modelscope.oss-cn-beijing.aliyuncs.com/releases/repo.html\n",
      "Collecting modelscope==1.7.2rc0\n",
      "  Downloading https://modelscope.oss-cn-beijing.aliyuncs.com/releases/v1.7/modelscope-1.7.2rc0-py3-none-any.whl (4.5 MB)\n",
      "\u001b[2K     \u001b[90m━━━━━━━━━━━━━━━━━━━━━━━━━━━━━━━━━━━━━━━━\u001b[0m \u001b[32m4.5/4.5 MB\u001b[0m \u001b[31m18.8 MB/s\u001b[0m eta \u001b[36m0:00:00\u001b[0ma \u001b[36m0:00:01\u001b[0m\n",
      "\u001b[?25hRequirement already satisfied: addict in /opt/conda/lib/python3.8/site-packages (from modelscope==1.7.2rc0) (2.4.0)\n",
      "Requirement already satisfied: attrs in /opt/conda/lib/python3.8/site-packages (from modelscope==1.7.2rc0) (23.1.0)\n",
      "Requirement already satisfied: datasets in /opt/conda/lib/python3.8/site-packages (from modelscope==1.7.2rc0) (2.13.1)\n",
      "Requirement already satisfied: einops in /opt/conda/lib/python3.8/site-packages (from modelscope==1.7.2rc0) (0.6.1)\n",
      "Requirement already satisfied: filelock>=3.3.0 in /opt/conda/lib/python3.8/site-packages (from modelscope==1.7.2rc0) (3.12.2)\n",
      "Requirement already satisfied: gast>=0.2.2 in /opt/conda/lib/python3.8/site-packages (from modelscope==1.7.2rc0) (0.3.3)\n",
      "Requirement already satisfied: numpy<=1.22.0 in /opt/conda/lib/python3.8/site-packages (from modelscope==1.7.2rc0) (1.22.0)\n",
      "Requirement already satisfied: oss2 in /opt/conda/lib/python3.8/site-packages (from modelscope==1.7.2rc0) (2.18.0)\n",
      "Requirement already satisfied: pandas<1.4.0 in /opt/conda/lib/python3.8/site-packages (from modelscope==1.7.2rc0) (1.3.5)\n",
      "Requirement already satisfied: Pillow>=6.2.0 in /opt/conda/lib/python3.8/site-packages (from modelscope==1.7.2rc0) (9.5.0)\n",
      "Requirement already satisfied: pyarrow!=9.0.0,>=6.0.0 in /opt/conda/lib/python3.8/site-packages (from modelscope==1.7.2rc0) (12.0.1)\n",
      "Requirement already satisfied: python-dateutil>=2.1 in /opt/conda/lib/python3.8/site-packages (from modelscope==1.7.2rc0) (2.8.2)\n",
      "Requirement already satisfied: pyyaml in /opt/conda/lib/python3.8/site-packages (from modelscope==1.7.2rc0) (6.0)\n",
      "Requirement already satisfied: requests>=2.25 in /opt/conda/lib/python3.8/site-packages (from modelscope==1.7.2rc0) (2.29.0)\n",
      "Requirement already satisfied: scipy in /opt/conda/lib/python3.8/site-packages (from modelscope==1.7.2rc0) (1.10.1)\n",
      "Requirement already satisfied: setuptools in /opt/conda/lib/python3.8/site-packages (from modelscope==1.7.2rc0) (67.8.0)\n",
      "Requirement already satisfied: simplejson>=3.3.0 in /opt/conda/lib/python3.8/site-packages (from modelscope==1.7.2rc0) (3.19.1)\n",
      "Requirement already satisfied: sortedcontainers>=1.5.9 in /opt/conda/lib/python3.8/site-packages (from modelscope==1.7.2rc0) (2.4.0)\n",
      "Requirement already satisfied: tqdm>=4.64.0 in /opt/conda/lib/python3.8/site-packages (from modelscope==1.7.2rc0) (4.65.0)\n",
      "Requirement already satisfied: urllib3>=1.26 in /opt/conda/lib/python3.8/site-packages (from modelscope==1.7.2rc0) (1.26.16)\n",
      "Requirement already satisfied: yapf in /opt/conda/lib/python3.8/site-packages (from modelscope==1.7.2rc0) (0.30.0)\n",
      "Requirement already satisfied: pytz>=2017.3 in /opt/conda/lib/python3.8/site-packages (from pandas<1.4.0->modelscope==1.7.2rc0) (2023.3)\n",
      "Requirement already satisfied: six>=1.5 in /opt/conda/lib/python3.8/site-packages (from python-dateutil>=2.1->modelscope==1.7.2rc0) (1.16.0)\n",
      "Requirement already satisfied: charset-normalizer<4,>=2 in /opt/conda/lib/python3.8/site-packages (from requests>=2.25->modelscope==1.7.2rc0) (2.0.4)\n",
      "Requirement already satisfied: idna<4,>=2.5 in /opt/conda/lib/python3.8/site-packages (from requests>=2.25->modelscope==1.7.2rc0) (3.4)\n",
      "Requirement already satisfied: certifi>=2017.4.17 in /opt/conda/lib/python3.8/site-packages (from requests>=2.25->modelscope==1.7.2rc0) (2023.5.7)\n",
      "Requirement already satisfied: dill<0.3.7,>=0.3.0 in /opt/conda/lib/python3.8/site-packages (from datasets->modelscope==1.7.2rc0) (0.3.6)\n",
      "Requirement already satisfied: xxhash in /opt/conda/lib/python3.8/site-packages (from datasets->modelscope==1.7.2rc0) (3.2.0)\n",
      "Requirement already satisfied: multiprocess in /opt/conda/lib/python3.8/site-packages (from datasets->modelscope==1.7.2rc0) (0.70.14)\n",
      "Requirement already satisfied: fsspec[http]>=2021.11.1 in /opt/conda/lib/python3.8/site-packages (from datasets->modelscope==1.7.2rc0) (2023.6.0)\n",
      "Requirement already satisfied: aiohttp in /opt/conda/lib/python3.8/site-packages (from datasets->modelscope==1.7.2rc0) (3.8.4)\n",
      "Requirement already satisfied: huggingface-hub<1.0.0,>=0.11.0 in /opt/conda/lib/python3.8/site-packages (from datasets->modelscope==1.7.2rc0) (0.15.1)\n",
      "Requirement already satisfied: packaging in /opt/conda/lib/python3.8/site-packages (from datasets->modelscope==1.7.2rc0) (23.0)\n",
      "Requirement already satisfied: crcmod>=1.7 in /opt/conda/lib/python3.8/site-packages (from oss2->modelscope==1.7.2rc0) (1.7)\n",
      "Requirement already satisfied: pycryptodome>=3.4.7 in /opt/conda/lib/python3.8/site-packages (from oss2->modelscope==1.7.2rc0) (3.18.0)\n",
      "Requirement already satisfied: aliyun-python-sdk-kms>=2.4.1 in /opt/conda/lib/python3.8/site-packages (from oss2->modelscope==1.7.2rc0) (2.16.1)\n",
      "Requirement already satisfied: aliyun-python-sdk-core>=2.13.12 in /opt/conda/lib/python3.8/site-packages (from oss2->modelscope==1.7.2rc0) (2.13.36)\n",
      "Requirement already satisfied: jmespath<1.0.0,>=0.9.3 in /opt/conda/lib/python3.8/site-packages (from aliyun-python-sdk-core>=2.13.12->oss2->modelscope==1.7.2rc0) (0.10.0)\n",
      "Requirement already satisfied: cryptography>=2.6.0 in /opt/conda/lib/python3.8/site-packages (from aliyun-python-sdk-core>=2.13.12->oss2->modelscope==1.7.2rc0) (39.0.1)\n",
      "Requirement already satisfied: multidict<7.0,>=4.5 in /opt/conda/lib/python3.8/site-packages (from aiohttp->datasets->modelscope==1.7.2rc0) (6.0.4)\n",
      "Requirement already satisfied: async-timeout<5.0,>=4.0.0a3 in /opt/conda/lib/python3.8/site-packages (from aiohttp->datasets->modelscope==1.7.2rc0) (4.0.2)\n",
      "Requirement already satisfied: yarl<2.0,>=1.0 in /opt/conda/lib/python3.8/site-packages (from aiohttp->datasets->modelscope==1.7.2rc0) (1.9.2)\n",
      "Requirement already satisfied: frozenlist>=1.1.1 in /opt/conda/lib/python3.8/site-packages (from aiohttp->datasets->modelscope==1.7.2rc0) (1.3.3)\n",
      "Requirement already satisfied: aiosignal>=1.1.2 in /opt/conda/lib/python3.8/site-packages (from aiohttp->datasets->modelscope==1.7.2rc0) (1.3.1)\n",
      "Requirement already satisfied: typing-extensions>=3.7.4.3 in /opt/conda/lib/python3.8/site-packages (from huggingface-hub<1.0.0,>=0.11.0->datasets->modelscope==1.7.2rc0) (4.6.3)\n",
      "Requirement already satisfied: cffi>=1.12 in /opt/conda/lib/python3.8/site-packages (from cryptography>=2.6.0->aliyun-python-sdk-core>=2.13.12->oss2->modelscope==1.7.2rc0) (1.15.1)\n",
      "Requirement already satisfied: pycparser in /opt/conda/lib/python3.8/site-packages (from cffi>=1.12->cryptography>=2.6.0->aliyun-python-sdk-core>=2.13.12->oss2->modelscope==1.7.2rc0) (2.21)\n",
      "Installing collected packages: modelscope\n",
      "  Attempting uninstall: modelscope\n",
      "    Found existing installation: modelscope 1.7.0\n",
      "    Uninstalling modelscope-1.7.0:\n",
      "      Successfully uninstalled modelscope-1.7.0\n",
      "Successfully installed modelscope-1.7.2rc0\n",
      "\u001b[33mWARNING: Running pip as the 'root' user can result in broken permissions and conflicting behaviour with the system package manager. It is recommended to use a virtual environment instead: https://pip.pypa.io/warnings/venv\u001b[0m\u001b[33m\n",
      "\u001b[0m"
     ]
    }
   ],
   "source": [
    "!pip3 install \"modelscope==1.7.2rc0\" -f https://modelscope.oss-cn-beijing.aliyuncs.com/releases/repo.html"
   ]
  },
  {
   "cell_type": "code",
   "execution_count": 1,
   "metadata": {
    "execution": {
     "iopub.execute_input": "2023-07-20T18:18:44.941491Z",
     "iopub.status.busy": "2023-07-20T18:18:44.940901Z",
     "iopub.status.idle": "2023-07-20T18:18:46.383629Z",
     "shell.execute_reply": "2023-07-20T18:18:46.383156Z",
     "shell.execute_reply.started": "2023-07-20T18:18:44.941470Z"
    },
    "tags": []
   },
   "outputs": [
    {
     "name": "stderr",
     "output_type": "stream",
     "text": [
      "2023-07-21 02:18:46,345 - modelscope - INFO - PyTorch version 2.0.1+cu117 Found.\n",
      "2023-07-21 02:18:46,350 - modelscope - INFO - Loading ast index from /mnt/workspace/.cache/modelscope/ast_indexer\n",
      "2023-07-21 02:18:46,379 - modelscope - INFO - Loading done! Current index file version is 1.7.2rc0, with md5 fe01e78b8984d1ed9e454203cb44a964 and a total number of 863 components indexed\n"
     ]
    },
    {
     "data": {
      "text/plain": [
       "'1.7.2rc0'"
      ]
     },
     "execution_count": 1,
     "metadata": {},
     "output_type": "execute_result"
    }
   ],
   "source": [
    "import modelscope\n",
    "modelscope.__version__"
   ]
  },
  {
   "cell_type": "code",
   "execution_count": 2,
   "metadata": {
    "ExecutionIndicator": {
     "show": false
    },
    "editable": true,
    "execution": {
     "iopub.execute_input": "2023-07-20T18:18:48.114212Z",
     "iopub.status.busy": "2023-07-20T18:18:48.113778Z",
     "iopub.status.idle": "2023-07-20T18:18:48.119511Z",
     "shell.execute_reply": "2023-07-20T18:18:48.119024Z",
     "shell.execute_reply.started": "2023-07-20T18:18:48.114192Z"
    },
    "tags": []
   },
   "outputs": [
    {
     "name": "stdout",
     "output_type": "stream",
     "text": [
      "80\n",
      "{'question_id': 1, 'text': 'How can I improve my time management skills?', 'category': 'generic'}\n"
     ]
    }
   ],
   "source": [
    "# read questions\n",
    "import json\n",
    "\n",
    "ques_file = '/mnt/workspace/llm-eval/data/question.jsonl'\n",
    "\n",
    "ques_list = []\n",
    "with open(ques_file, 'r') as f:\n",
    "    for line in f:\n",
    "        line = line.strip()\n",
    "        ques_list.append(json.loads(line))\n",
    "\n",
    "print(len(ques_list))\n",
    "print(next(iter(ques_list)))"
   ]
  },
  {
   "cell_type": "code",
   "execution_count": 4,
   "metadata": {
    "execution": {
     "iopub.execute_input": "2023-07-20T18:18:52.843059Z",
     "iopub.status.busy": "2023-07-20T18:18:52.842713Z",
     "iopub.status.idle": "2023-07-20T18:18:52.847838Z",
     "shell.execute_reply": "2023-07-20T18:18:52.847236Z",
     "shell.execute_reply.started": "2023-07-20T18:18:52.843040Z"
    },
    "tags": []
   },
   "outputs": [],
   "source": [
    "import json\n",
    "import time\n",
    "\n",
    "def get_answers(model_name, model, tokenizer, ques_list, out_file):\n",
    "    \n",
    "    with open(out_file, 'a') as f:\n",
    "        for ques in ques_list:\n",
    "            print('\\n>>>inputs: ', ques)\n",
    "            start = time.time()\n",
    "            \n",
    "            # do infer\n",
    "            inputs = tokenizer(ques['text'], return_tensors=\"pt\")\n",
    "            generate_ids = model.generate(inputs.input_ids, max_length=30)\n",
    "            result = tokenizer.batch_decode(generate_ids, skip_special_tokens=True, clean_up_tokenization_spaces=False)[0]\n",
    "            \n",
    "            \n",
    "            print('***Time cost: ', time.time() - start)\n",
    "\n",
    "            res = {'model_id': model_name, 'metadata': {}, 'answer': result}    # todo !!!  result\n",
    "            ques.update(res)\n",
    "            print('\\n*** res: ', ques)\n",
    "            \n",
    "            f.write(json.dumps(ques, ensure_ascii=False) + '\\n')\n",
    "\n",
    "    print('** Dump data finished !\\n')\n"
   ]
  },
  {
   "cell_type": "code",
   "execution_count": 5,
   "metadata": {
    "ExecutionIndicator": {
     "show": true
    },
    "editable": true,
    "execution": {
     "iopub.execute_input": "2023-07-20T18:18:56.201814Z",
     "iopub.status.busy": "2023-07-20T18:18:56.201458Z",
     "iopub.status.idle": "2023-07-20T18:19:03.629707Z",
     "shell.execute_reply": "2023-07-20T18:19:03.629178Z",
     "shell.execute_reply.started": "2023-07-20T18:18:56.201795Z"
    },
    "tags": []
   },
   "outputs": [
    {
     "name": "stderr",
     "output_type": "stream",
     "text": [
      "2023-07-21 02:18:56,737 - modelscope - INFO - Use user-specified model revision: v1.0.1\n",
      "2023-07-21 02:18:57,155 - modelscope - INFO - initialize model from /mnt/workspace/.cache/modelscope/modelscope/Llama-2-7b-ms\n"
     ]
    },
    {
     "name": "stdout",
     "output_type": "stream",
     "text": [
      "[2023-07-21 02:18:57,293] [INFO] [real_accelerator.py:110:get_accelerator] Setting ds_accelerator to cuda (auto detect)\n",
      "WARNING:tensorflow:Deprecation warnings have been disabled. Set TF_ENABLE_DEPRECATION_WARNINGS=1 to re-enable them.\n"
     ]
    },
    {
     "name": "stderr",
     "output_type": "stream",
     "text": [
      "2023-07-21 02:18:57.771922: I tensorflow/stream_executor/platform/default/dso_loader.cc:49] Successfully opened dynamic library libcudart.so.11.0\n",
      "The model weights are not tied. Please use the `tie_weights` method before using the `infer_auto_device` function.\n"
     ]
    },
    {
     "data": {
      "application/vnd.jupyter.widget-view+json": {
       "model_id": "e5f4ad3e214746dca3c733f3d18c83dd",
       "version_major": 2,
       "version_minor": 0
      },
      "text/plain": [
       "Loading checkpoint shards:   0%|          | 0/2 [00:00<?, ?it/s]"
      ]
     },
     "metadata": {},
     "output_type": "display_data"
    },
    {
     "name": "stderr",
     "output_type": "stream",
     "text": [
      "The tokenizer class you load from this checkpoint is not the same type as the class this function is called from. It may result in unexpected tokenization. \n",
      "The tokenizer class you load from this checkpoint is 'LlamaTokenizer'. \n",
      "The class this function is called from is 'Llama2Tokenizer'.\n"
     ]
    }
   ],
   "source": [
    "import torch\n",
    "from modelscope import snapshot_download, Model\n",
    "from modelscope.models.nlp.llama2 import Llama2Tokenizer\n",
    "\n",
    "model_dir = snapshot_download(\"modelscope/Llama-2-7b-ms\", revision='v1.0.1', \n",
    "                              ignore_file_pattern = [r'\\w+\\.safetensors'])\n",
    "model = Model.from_pretrained(model_dir, device_map='auto', torch_dtype=torch.float16)\n",
    "tokenizer = Llama2Tokenizer.from_pretrained(model_dir)\n"
   ]
  },
  {
   "cell_type": "code",
   "execution_count": 6,
   "metadata": {
    "execution": {
     "iopub.execute_input": "2023-07-20T18:19:08.599238Z",
     "iopub.status.busy": "2023-07-20T18:19:08.598917Z",
     "iopub.status.idle": "2023-07-20T18:19:10.075590Z",
     "shell.execute_reply": "2023-07-20T18:19:10.074833Z",
     "shell.execute_reply.started": "2023-07-20T18:19:08.599217Z"
    },
    "tags": []
   },
   "outputs": [
    {
     "name": "stderr",
     "output_type": "stream",
     "text": [
      "/opt/conda/lib/python3.8/site-packages/transformers/generation/utils.py:1259: UserWarning: You have modified the pretrained model configuration to control generation. This is a deprecated strategy to control generation and will be removed soon, in a future version. Please use a generation configuration file (see https://huggingface.co/docs/transformers/main_classes/text_generation)\n",
      "  warnings.warn(\n",
      "/opt/conda/lib/python3.8/site-packages/transformers/generation/utils.py:1452: UserWarning: You are calling .generate() with the `input_ids` being on a device type different than your model's device. `input_ids` is on cpu, whereas the model is on cuda. You may experience unexpected behaviors or slower generation. Please make sure that you have put `input_ids` to the correct device by calling for example input_ids = input_ids.to('cuda') before running `.generate()`.\n",
      "  warnings.warn(\n"
     ]
    },
    {
     "name": "stdout",
     "output_type": "stream",
     "text": [
      "Hey, are you conscious? Can you talk to me?\n",
      "I'm not sure if you're conscious or not.\n",
      "I'\n"
     ]
    }
   ],
   "source": [
    "# ONLY FOR TEST \n",
    "\n",
    "prompt = \"Hey, are you conscious? Can you talk to me?\"\n",
    "inputs = tokenizer(prompt, return_tensors=\"pt\")\n",
    "\n",
    "# Generate\n",
    "generate_ids = model.generate(inputs.input_ids, max_length=30)\n",
    "print(tokenizer.batch_decode(generate_ids, skip_special_tokens=True, clean_up_tokenization_spaces=False)[0])"
   ]
  },
  {
   "cell_type": "code",
   "execution_count": 7,
   "metadata": {
    "execution": {
     "iopub.execute_input": "2023-07-20T18:19:36.406721Z",
     "iopub.status.busy": "2023-07-20T18:19:36.406172Z",
     "iopub.status.idle": "2023-07-20T18:20:01.136390Z",
     "shell.execute_reply": "2023-07-20T18:20:01.135847Z",
     "shell.execute_reply.started": "2023-07-20T18:19:36.406690Z"
    }
   },
   "outputs": [
    {
     "name": "stdout",
     "output_type": "stream",
     "text": [
      "\n",
      ">>>inputs:  {'question_id': 1, 'text': 'How can I improve my time management skills?', 'category': 'generic'}\n",
      "***Time cost:  0.7945966720581055\n",
      "\n",
      "*** res:  {'question_id': 1, 'text': 'How can I improve my time management skills?', 'category': 'generic', 'model_id': 'llama2-7b', 'metadata': {}, 'answer': 'How can I improve my time management skills?\\nHow can I improve my time management skills? 10 Tips for Improving Your'}\n",
      "\n",
      ">>>inputs:  {'question_id': 2, 'text': 'What are the most effective ways to deal with stress?', 'category': 'generic'}\n",
      "***Time cost:  0.7123160362243652\n",
      "\n",
      "*** res:  {'question_id': 2, 'text': 'What are the most effective ways to deal with stress?', 'category': 'generic', 'model_id': 'llama2-7b', 'metadata': {}, 'answer': 'What are the most effective ways to deal with stress?\\nWhat are the most effective ways to deal with stress? What are the most effective ways'}\n",
      "\n",
      ">>>inputs:  {'question_id': 3, 'text': 'What are the main differences between Python and JavaScript programming languages?', 'category': 'generic'}\n",
      "***Time cost:  0.6727900505065918\n",
      "\n",
      "*** res:  {'question_id': 3, 'text': 'What are the main differences between Python and JavaScript programming languages?', 'category': 'generic', 'model_id': 'llama2-7b', 'metadata': {}, 'answer': 'What are the main differences between Python and JavaScript programming languages?\\nPython is a high-level, interpreted, general-purpose programming language.'}\n",
      "\n",
      ">>>inputs:  {'question_id': 4, 'text': 'How can I increase my productivity while working from home?', 'category': 'generic'}\n",
      "***Time cost:  0.6727855205535889\n",
      "\n",
      "*** res:  {'question_id': 4, 'text': 'How can I increase my productivity while working from home?', 'category': 'generic', 'model_id': 'llama2-7b', 'metadata': {}, 'answer': 'How can I increase my productivity while working from home?\\nHow can I increase my productivity while working from home? Working from home can'}\n",
      "\n",
      ">>>inputs:  {'question_id': 5, 'text': 'Can you explain the basics of quantum computing?', 'category': 'generic'}\n",
      "***Time cost:  0.7613461017608643\n",
      "\n",
      "*** res:  {'question_id': 5, 'text': 'Can you explain the basics of quantum computing?', 'category': 'generic', 'model_id': 'llama2-7b', 'metadata': {}, 'answer': 'Can you explain the basics of quantum computing?\\nWhat is quantum computing and how does it work?\\nWhat is quantum computing and how does'}\n",
      "\n",
      ">>>inputs:  {'question_id': 6, 'text': 'What are the differences between plant-based and animal-based protein sources?', 'category': 'generic'}\n",
      "***Time cost:  0.5705001354217529\n",
      "\n",
      "*** res:  {'question_id': 6, 'text': 'What are the differences between plant-based and animal-based protein sources?', 'category': 'generic', 'model_id': 'llama2-7b', 'metadata': {}, 'answer': 'What are the differences between plant-based and animal-based protein sources?\\nWhat are the differences between plant-based and animal-based protein'}\n",
      "\n",
      ">>>inputs:  {'question_id': 7, 'text': 'How can I develop my critical thinking skills?', 'category': 'generic'}\n",
      "***Time cost:  0.7845916748046875\n",
      "\n",
      "*** res:  {'question_id': 7, 'text': 'How can I develop my critical thinking skills?', 'category': 'generic', 'model_id': 'llama2-7b', 'metadata': {}, 'answer': 'How can I develop my critical thinking skills?\\nHow do you develop critical thinking skills in the classroom?\\nHow do you develop critical thinking'}\n",
      "\n",
      ">>>inputs:  {'question_id': 8, 'text': 'What are the major challenges faced by the education sector today?', 'category': 'generic'}\n",
      "***Time cost:  0.6294896602630615\n",
      "\n",
      "*** res:  {'question_id': 8, 'text': 'What are the major challenges faced by the education sector today?', 'category': 'generic', 'model_id': 'llama2-7b', 'metadata': {}, 'answer': 'What are the major challenges faced by the education sector today?\\nWhat are the major challenges faced by the education sector today? The education'}\n",
      "\n",
      ">>>inputs:  {'question_id': 9, 'text': 'What are the primary factors that influence consumer behavior?', 'category': 'generic'}\n",
      "***Time cost:  0.7504374980926514\n",
      "\n",
      "*** res:  {'question_id': 9, 'text': 'What are the primary factors that influence consumer behavior?', 'category': 'generic', 'model_id': 'llama2-7b', 'metadata': {}, 'answer': 'What are the primary factors that influence consumer behavior?\\nWhat are the 5 factors that influence consumer behavior?\\nWhat are the 5 factors'}\n",
      "\n",
      ">>>inputs:  {'question_id': 10, 'text': 'What are the most effective strategies for conflict resolution in the workplace?', 'category': 'generic'}\n"
     ]
    },
    {
     "name": "stderr",
     "output_type": "stream",
     "text": [
      "Input length of input_ids is 31, but `max_length` is set to 30. This can lead to unexpected behavior. You should consider increasing `max_new_tokens`.\n"
     ]
    },
    {
     "name": "stdout",
     "output_type": "stream",
     "text": [
      "***Time cost:  0.5672097206115723\n",
      "\n",
      "*** res:  {'question_id': 10, 'text': 'What are the most effective strategies for conflict resolution in the workplace?', 'category': 'generic', 'model_id': 'llama2-7b', 'metadata': {}, 'answer': 'What are the most effective strategies for conflict resolution in the workplace?\\nWhat are the most effective strategies for conflict resolution in the work'}\n",
      "\n",
      ">>>inputs:  {'question_id': 11, 'text': 'What are some potential implications of using a single-use plastic bottle versus a reusable bottle on both the environment and human health?', 'category': 'knowledge'}\n",
      "***Time cost:  0.044432640075683594\n",
      "\n",
      "*** res:  {'question_id': 11, 'text': 'What are some potential implications of using a single-use plastic bottle versus a reusable bottle on both the environment and human health?', 'category': 'knowledge', 'model_id': 'llama2-7b', 'metadata': {}, 'answer': 'What are some potential implications of using a single-use plastic bottle versus a reusable bottle on both the environment and human health?\\n'}\n",
      "\n",
      ">>>inputs:  {'question_id': 12, 'text': 'What factors would you consider when designing an inclusive and accessible public transportation system?', 'category': 'knowledge'}\n",
      "***Time cost:  0.4469585418701172\n",
      "\n",
      "*** res:  {'question_id': 12, 'text': 'What factors would you consider when designing an inclusive and accessible public transportation system?', 'category': 'knowledge', 'model_id': 'llama2-7b', 'metadata': {}, 'answer': 'What factors would you consider when designing an inclusive and accessible public transportation system?\\nWhat factors would you consider when designing an inclus'}\n",
      "\n",
      ">>>inputs:  {'question_id': 13, 'text': 'How can governments utilize fiscal and monetary policies to combat economic recessions?', 'category': 'knowledge'}\n",
      "***Time cost:  0.3668844699859619\n",
      "\n",
      "*** res:  {'question_id': 13, 'text': 'How can governments utilize fiscal and monetary policies to combat economic recessions?', 'category': 'knowledge', 'model_id': 'llama2-7b', 'metadata': {}, 'answer': 'How can governments utilize fiscal and monetary policies to combat economic recessions?\\nWhat are the advantages and disadvantages'}\n",
      "\n",
      ">>>inputs:  {'question_id': 14, 'text': 'How do language and cultural barriers affect the way people communicate and form relationships in multicultural societies?', 'category': 'knowledge'}\n",
      "***Time cost:  0.2823350429534912\n",
      "\n",
      "*** res:  {'question_id': 14, 'text': 'How do language and cultural barriers affect the way people communicate and form relationships in multicultural societies?', 'category': 'knowledge', 'model_id': 'llama2-7b', 'metadata': {}, 'answer': 'How do language and cultural barriers affect the way people communicate and form relationships in multicultural societies?\\nHow do language and cultural bar'}\n",
      "\n",
      ">>>inputs:  {'question_id': 15, 'text': 'Describe a scenario where artificial intelligence could be used to improve the quality and efficiency of healthcare delivery.', 'category': 'knowledge'}\n"
     ]
    },
    {
     "name": "stderr",
     "output_type": "stream",
     "text": [
      "Input length of input_ids is 31, but `max_length` is set to 30. This can lead to unexpected behavior. You should consider increasing `max_new_tokens`.\n"
     ]
    },
    {
     "name": "stdout",
     "output_type": "stream",
     "text": [
      "***Time cost:  0.3225388526916504\n",
      "\n",
      "*** res:  {'question_id': 15, 'text': 'Describe a scenario where artificial intelligence could be used to improve the quality and efficiency of healthcare delivery.', 'category': 'knowledge', 'model_id': 'llama2-7b', 'metadata': {}, 'answer': 'Describe a scenario where artificial intelligence could be used to improve the quality and efficiency of healthcare delivery.\\nDescribe a scenario where artificial intelligence'}\n",
      "\n",
      ">>>inputs:  {'question_id': 16, 'text': 'Explain the process of gene editing using CRISPR-Cas9 technology, and discuss its potential applications and ethical implications.', 'category': 'knowledge'}\n",
      "***Time cost:  0.04123520851135254\n",
      "\n",
      "*** res:  {'question_id': 16, 'text': 'Explain the process of gene editing using CRISPR-Cas9 technology, and discuss its potential applications and ethical implications.', 'category': 'knowledge', 'model_id': 'llama2-7b', 'metadata': {}, 'answer': 'Explain the process of gene editing using CRISPR-Cas9 technology, and discuss its potential applications and ethical implications.\\n'}\n",
      "\n",
      ">>>inputs:  {'question_id': 17, 'text': 'How do vaccinations work to protect individuals and communities from infectious diseases, and what is herd immunity?', 'category': 'knowledge'}\n",
      "***Time cost:  0.08205962181091309\n",
      "\n",
      "*** res:  {'question_id': 17, 'text': 'How do vaccinations work to protect individuals and communities from infectious diseases, and what is herd immunity?', 'category': 'knowledge', 'model_id': 'llama2-7b', 'metadata': {}, 'answer': 'How do vaccinations work to protect individuals and communities from infectious diseases, and what is herd immunity?\\nHow'}\n",
      "\n",
      ">>>inputs:  {'question_id': 18, 'text': 'How do social media platforms influence the way people consume and share news, and what are the potential implications for the spread of misinformation?', 'category': 'knowledge'}\n",
      "***Time cost:  0.0410618782043457\n",
      "\n",
      "*** res:  {'question_id': 18, 'text': 'How do social media platforms influence the way people consume and share news, and what are the potential implications for the spread of misinformation?', 'category': 'knowledge', 'model_id': 'llama2-7b', 'metadata': {}, 'answer': 'How do social media platforms influence the way people consume and share news, and what are the potential implications for the spread of misinformation?\\n'}\n",
      "\n",
      ">>>inputs:  {'question_id': 19, 'text': \"How do cultural, social, and economic factors influence people's food choices, and how can this knowledge be used to promote healthier diets?\", 'category': 'knowledge'}\n",
      "***Time cost:  0.041680335998535156\n",
      "\n",
      "*** res:  {'question_id': 19, 'text': \"How do cultural, social, and economic factors influence people's food choices, and how can this knowledge be used to promote healthier diets?\", 'category': 'knowledge', 'model_id': 'llama2-7b', 'metadata': {}, 'answer': \"How do cultural, social, and economic factors influence people's food choices, and how can this knowledge be used to promote healthier diets?\\n\"}\n",
      "\n",
      ">>>inputs:  {'question_id': 20, 'text': 'Explain the process of natural selection and how it contributes to the evolution and adaptation of species.', 'category': 'knowledge'}\n",
      "***Time cost:  0.3630411624908447\n",
      "\n",
      "*** res:  {'question_id': 20, 'text': 'Explain the process of natural selection and how it contributes to the evolution and adaptation of species.', 'category': 'knowledge', 'model_id': 'llama2-7b', 'metadata': {}, 'answer': 'Explain the process of natural selection and how it contributes to the evolution and adaptation of species.\\nExplain the process of natural selection and'}\n",
      "\n",
      ">>>inputs:  {'question_id': 21, 'text': 'How would you introduce yourself as a medieval knight at a royal banquet?', 'category': 'roleplay'}\n",
      "***Time cost:  0.5238912105560303\n",
      "\n",
      "*** res:  {'question_id': 21, 'text': 'How would you introduce yourself as a medieval knight at a royal banquet?', 'category': 'roleplay', 'model_id': 'llama2-7b', 'metadata': {}, 'answer': 'How would you introduce yourself as a medieval knight at a royal banquet?\\nWhat would you do if you were a knight in the'}\n",
      "\n",
      ">>>inputs:  {'question_id': 22, 'text': 'As a pirate captain, what would you say to your crew to motivate them to search for hidden treasure?', 'category': 'roleplay'}\n",
      "***Time cost:  0.20463061332702637\n",
      "\n",
      "*** res:  {'question_id': 22, 'text': 'As a pirate captain, what would you say to your crew to motivate them to search for hidden treasure?', 'category': 'roleplay', 'model_id': 'llama2-7b', 'metadata': {}, 'answer': 'As a pirate captain, what would you say to your crew to motivate them to search for hidden treasure?\\nThe answer is simple'}\n",
      "\n",
      ">>>inputs:  {'question_id': 23, 'text': 'If you were a Shakespearean character, how would you declare your love for someone in a soliloquy?', 'category': 'roleplay'}\n",
      "***Time cost:  0.24236416816711426\n",
      "\n",
      "*** res:  {'question_id': 23, 'text': 'If you were a Shakespearean character, how would you declare your love for someone in a soliloquy?', 'category': 'roleplay', 'model_id': 'llama2-7b', 'metadata': {}, 'answer': 'If you were a Shakespearean character, how would you declare your love for someone in a soliloquy?\\nThe answer to this question'}\n",
      "\n",
      ">>>inputs:  {'question_id': 24, 'text': 'As a superhero, how would you explain your origin story to a curious child?', 'category': 'roleplay'}\n"
     ]
    },
    {
     "name": "stderr",
     "output_type": "stream",
     "text": [
      "Input length of input_ids is 30, but `max_length` is set to 30. This can lead to unexpected behavior. You should consider increasing `max_new_tokens`.\n"
     ]
    },
    {
     "name": "stdout",
     "output_type": "stream",
     "text": [
      "***Time cost:  0.4392523765563965\n",
      "\n",
      "*** res:  {'question_id': 24, 'text': 'As a superhero, how would you explain your origin story to a curious child?', 'category': 'roleplay', 'model_id': 'llama2-7b', 'metadata': {}, 'answer': 'As a superhero, how would you explain your origin story to a curious child?\\nThe answer to this question is the premise of'}\n",
      "\n",
      ">>>inputs:  {'question_id': 25, 'text': 'Imagine you are a time traveler from the year 3000. What technological advancements would you tell people about?', 'category': 'roleplay'}\n",
      "***Time cost:  0.042078256607055664\n",
      "\n",
      "*** res:  {'question_id': 25, 'text': 'Imagine you are a time traveler from the year 3000. What technological advancements would you tell people about?', 'category': 'roleplay', 'model_id': 'llama2-7b', 'metadata': {}, 'answer': 'Imagine you are a time traveler from the year 3000. What technological advancements would you tell people about? What'}\n",
      "\n",
      ">>>inputs:  {'question_id': 26, 'text': 'As a sports commentator, describe the winning play in the final seconds of a championship game.', 'category': 'roleplay'}\n",
      "***Time cost:  0.40494632720947266\n",
      "\n",
      "*** res:  {'question_id': 26, 'text': 'As a sports commentator, describe the winning play in the final seconds of a championship game.', 'category': 'roleplay', 'model_id': 'llama2-7b', 'metadata': {}, 'answer': 'As a sports commentator, describe the winning play in the final seconds of a championship game.\\nAs a sports commentator, describe the winning'}\n",
      "\n",
      ">>>inputs:  {'question_id': 27, 'text': 'Pretend to be a world-famous chef. How would you describe your signature dish to a panel of judges?', 'category': 'roleplay'}\n",
      "***Time cost:  0.04101753234863281\n",
      "\n",
      "*** res:  {'question_id': 27, 'text': 'Pretend to be a world-famous chef. How would you describe your signature dish to a panel of judges?', 'category': 'roleplay', 'model_id': 'llama2-7b', 'metadata': {}, 'answer': 'Pretend to be a world-famous chef. How would you describe your signature dish to a panel of judges?\\n'}\n",
      "\n",
      ">>>inputs:  {'question_id': 28, 'text': 'You are a mountain climber reaching the summit of Mount Everest. Describe your emotions and the view from the top.', 'category': 'roleplay'}\n",
      "***Time cost:  0.0799558162689209\n",
      "\n",
      "*** res:  {'question_id': 28, 'text': 'You are a mountain climber reaching the summit of Mount Everest. Describe your emotions and the view from the top.', 'category': 'roleplay', 'model_id': 'llama2-7b', 'metadata': {}, 'answer': 'You are a mountain climber reaching the summit of Mount Everest. Describe your emotions and the view from the top.\\nYou'}\n",
      "\n",
      ">>>inputs:  {'question_id': 29, 'text': 'As a space colonist on Mars, describe your daily life and the challenges you face living on another planet.', 'category': 'roleplay'}\n"
     ]
    },
    {
     "name": "stderr",
     "output_type": "stream",
     "text": [
      "Input length of input_ids is 31, but `max_length` is set to 30. This can lead to unexpected behavior. You should consider increasing `max_new_tokens`.\n",
      "Input length of input_ids is 30, but `max_length` is set to 30. This can lead to unexpected behavior. You should consider increasing `max_new_tokens`.\n"
     ]
    },
    {
     "name": "stdout",
     "output_type": "stream",
     "text": [
      "***Time cost:  0.2460768222808838\n",
      "\n",
      "*** res:  {'question_id': 29, 'text': 'As a space colonist on Mars, describe your daily life and the challenges you face living on another planet.', 'category': 'roleplay', 'model_id': 'llama2-7b', 'metadata': {}, 'answer': 'As a space colonist on Mars, describe your daily life and the challenges you face living on another planet.\\nAs a space colonist'}\n",
      "\n",
      ">>>inputs:  {'question_id': 30, 'text': 'Pretend to be a character in a post-apocalyptic world. Describe how you survive and the allies you encounter.', 'category': 'roleplay'}\n",
      "***Time cost:  0.041357994079589844\n",
      "\n",
      "*** res:  {'question_id': 30, 'text': 'Pretend to be a character in a post-apocalyptic world. Describe how you survive and the allies you encounter.', 'category': 'roleplay', 'model_id': 'llama2-7b', 'metadata': {}, 'answer': 'Pretend to be a character in a post-apocalyptic world. Describe how you survive and the allies you encounter.\\n'}\n",
      "\n",
      ">>>inputs:  {'question_id': 31, 'text': 'How can you determine if a restaurant is popular among locals or mainly attracts tourists, and why might this information be useful?', 'category': 'common-sense'}\n",
      "***Time cost:  0.07985591888427734\n",
      "\n",
      "*** res:  {'question_id': 31, 'text': 'How can you determine if a restaurant is popular among locals or mainly attracts tourists, and why might this information be useful?', 'category': 'common-sense', 'model_id': 'llama2-7b', 'metadata': {}, 'answer': 'How can you determine if a restaurant is popular among locals or mainly attracts tourists, and why might this information be useful?\\nHow'}\n",
      "\n",
      ">>>inputs:  {'question_id': 32, 'text': 'What are some subtle clues that suggest someone is pretending to understand a topic or conversation when they are actually confused or uninformed?', 'category': 'common-sense'}\n",
      "***Time cost:  0.04136466979980469\n",
      "\n",
      "*** res:  {'question_id': 32, 'text': 'What are some subtle clues that suggest someone is pretending to understand a topic or conversation when they are actually confused or uninformed?', 'category': 'common-sense', 'model_id': 'llama2-7b', 'metadata': {}, 'answer': 'What are some subtle clues that suggest someone is pretending to understand a topic or conversation when they are actually confused or uninformed?\\n'}\n",
      "\n",
      ">>>inputs:  {'question_id': 33, 'text': 'Why might someone choose to use a paper map or ask for directions instead of relying on a GPS device or smartphone app?', 'category': 'common-sense'}\n",
      "***Time cost:  0.07935261726379395\n",
      "\n",
      "*** res:  {'question_id': 33, 'text': 'Why might someone choose to use a paper map or ask for directions instead of relying on a GPS device or smartphone app?', 'category': 'common-sense', 'model_id': 'llama2-7b', 'metadata': {}, 'answer': 'Why might someone choose to use a paper map or ask for directions instead of relying on a GPS device or smartphone app?\\nWhat'}\n",
      "\n",
      ">>>inputs:  {'question_id': 34, 'text': 'How can you determine if a person is genuinely interested in a conversation or simply being polite?', 'category': 'common-sense'}\n"
     ]
    },
    {
     "name": "stderr",
     "output_type": "stream",
     "text": [
      "Input length of input_ids is 38, but `max_length` is set to 30. This can lead to unexpected behavior. You should consider increasing `max_new_tokens`.\n",
      "Input length of input_ids is 36, but `max_length` is set to 30. This can lead to unexpected behavior. You should consider increasing `max_new_tokens`.\n"
     ]
    },
    {
     "name": "stdout",
     "output_type": "stream",
     "text": [
      "***Time cost:  0.3182806968688965\n",
      "\n",
      "*** res:  {'question_id': 34, 'text': 'How can you determine if a person is genuinely interested in a conversation or simply being polite?', 'category': 'common-sense', 'model_id': 'llama2-7b', 'metadata': {}, 'answer': 'How can you determine if a person is genuinely interested in a conversation or simply being polite?\\nHow can you tell if someone is'}\n",
      "\n",
      ">>>inputs:  {'question_id': 35, 'text': 'Why might someone prefer to shop at a small, locally-owned business instead of a large chain store, even if the prices are higher?', 'category': 'common-sense'}\n",
      "***Time cost:  0.040865182876586914\n",
      "\n",
      "*** res:  {'question_id': 35, 'text': 'Why might someone prefer to shop at a small, locally-owned business instead of a large chain store, even if the prices are higher?', 'category': 'common-sense', 'model_id': 'llama2-7b', 'metadata': {}, 'answer': 'Why might someone prefer to shop at a small, locally-owned business instead of a large chain store, even if the prices are higher?\\n'}\n",
      "\n",
      ">>>inputs:  {'question_id': 36, 'text': 'How can you assess the credibility of a source of information, such as a news article or blog post, without relying solely on the reputation of the author or publisher?', 'category': 'common-sense'}\n",
      "***Time cost:  0.0448613166809082\n",
      "\n",
      "*** res:  {'question_id': 36, 'text': 'How can you assess the credibility of a source of information, such as a news article or blog post, without relying solely on the reputation of the author or publisher?', 'category': 'common-sense', 'model_id': 'llama2-7b', 'metadata': {}, 'answer': 'How can you assess the credibility of a source of information, such as a news article or blog post, without relying solely on the reputation of the author or publisher?\\n'}\n",
      "\n",
      ">>>inputs:  {'question_id': 37, 'text': 'Why do some people enjoy the sensation of being scared, such as by watching horror movies or going on roller coasters, while others avoid these experiences?', 'category': 'common-sense'}\n",
      "***Time cost:  0.04474806785583496\n",
      "\n",
      "*** res:  {'question_id': 37, 'text': 'Why do some people enjoy the sensation of being scared, such as by watching horror movies or going on roller coasters, while others avoid these experiences?', 'category': 'common-sense', 'model_id': 'llama2-7b', 'metadata': {}, 'answer': 'Why do some people enjoy the sensation of being scared, such as by watching horror movies or going on roller coasters, while others avoid these experiences?\\n'}\n",
      "\n",
      ">>>inputs:  {'question_id': 38, 'text': 'How can observing the behavior of other people in a social situation provide clues about cultural norms and expectations?', 'category': 'common-sense'}\n",
      "***Time cost:  0.20536255836486816\n",
      "\n",
      "*** res:  {'question_id': 38, 'text': 'How can observing the behavior of other people in a social situation provide clues about cultural norms and expectations?', 'category': 'common-sense', 'model_id': 'llama2-7b', 'metadata': {}, 'answer': 'How can observing the behavior of other people in a social situation provide clues about cultural norms and expectations?\\nHow can observing'}\n",
      "\n",
      ">>>inputs:  {'question_id': 39, 'text': \"Do we have a moral obligation to explore space, or should we focus on solving Earth's problems first?\", 'category': 'common-sense'}\n"
     ]
    },
    {
     "name": "stderr",
     "output_type": "stream",
     "text": [
      "Input length of input_ids is 30, but `max_length` is set to 30. This can lead to unexpected behavior. You should consider increasing `max_new_tokens`.\n",
      "Input length of input_ids is 35, but `max_length` is set to 30. This can lead to unexpected behavior. You should consider increasing `max_new_tokens`.\n",
      "Input length of input_ids is 33, but `max_length` is set to 30. This can lead to unexpected behavior. You should consider increasing `max_new_tokens`.\n",
      "Input length of input_ids is 34, but `max_length` is set to 30. This can lead to unexpected behavior. You should consider increasing `max_new_tokens`.\n",
      "Input length of input_ids is 41, but `max_length` is set to 30. This can lead to unexpected behavior. You should consider increasing `max_new_tokens`.\n"
     ]
    },
    {
     "name": "stdout",
     "output_type": "stream",
     "text": [
      "***Time cost:  0.24617767333984375\n",
      "\n",
      "*** res:  {'question_id': 39, 'text': \"Do we have a moral obligation to explore space, or should we focus on solving Earth's problems first?\", 'category': 'common-sense', 'model_id': 'llama2-7b', 'metadata': {}, 'answer': \"Do we have a moral obligation to explore space, or should we focus on solving Earth's problems first?\\nThe question of whether we\"}\n",
      "\n",
      ">>>inputs:  {'question_id': 40, 'text': 'In a world where automation is becoming increasingly prevalent, is it more important to prioritize job creation or technological progress?', 'category': 'common-sense'}\n",
      "***Time cost:  0.0435328483581543\n",
      "\n",
      "*** res:  {'question_id': 40, 'text': 'In a world where automation is becoming increasingly prevalent, is it more important to prioritize job creation or technological progress?', 'category': 'common-sense', 'model_id': 'llama2-7b', 'metadata': {}, 'answer': 'In a world where automation is becoming increasingly prevalent, is it more important to prioritize job creation or technological progress?\\n'}\n",
      "\n",
      ">>>inputs:  {'question_id': 41, 'text': 'How many times does the average human blink in a lifetime? Try to explain your answer. Your explanation should take the reader through your reasoning step-by-step.', 'category': 'fermi'}\n",
      "***Time cost:  0.0443727970123291\n",
      "\n",
      "*** res:  {'question_id': 41, 'text': 'How many times does the average human blink in a lifetime? Try to explain your answer. Your explanation should take the reader through your reasoning step-by-step.', 'category': 'fermi', 'model_id': 'llama2-7b', 'metadata': {}, 'answer': 'How many times does the average human blink in a lifetime? Try to explain your answer. Your explanation should take the reader through your reasoning step-by-step.\\n'}\n",
      "\n",
      ">>>inputs:  {'question_id': 42, 'text': 'How many atoms are in a grain of salt? Try to explain your answer. Your explanation should take the reader through your reasoning step-by-step.', 'category': 'fermi'}\n",
      "***Time cost:  0.04199528694152832\n",
      "\n",
      "*** res:  {'question_id': 42, 'text': 'How many atoms are in a grain of salt? Try to explain your answer. Your explanation should take the reader through your reasoning step-by-step.', 'category': 'fermi', 'model_id': 'llama2-7b', 'metadata': {}, 'answer': 'How many atoms are in a grain of salt? Try to explain your answer. Your explanation should take the reader through your reasoning step-by-step.\\n'}\n",
      "\n",
      ">>>inputs:  {'question_id': 43, 'text': 'How many lightning strikes occur on Earth each day? Try to explain your answer. Your explanation should take the reader through your reasoning step-by-step.', 'category': 'fermi'}\n",
      "***Time cost:  0.0424199104309082\n",
      "\n",
      "*** res:  {'question_id': 43, 'text': 'How many lightning strikes occur on Earth each day? Try to explain your answer. Your explanation should take the reader through your reasoning step-by-step.', 'category': 'fermi', 'model_id': 'llama2-7b', 'metadata': {}, 'answer': 'How many lightning strikes occur on Earth each day? Try to explain your answer. Your explanation should take the reader through your reasoning step-by-step.\\n'}\n",
      "\n",
      ">>>inputs:  {'question_id': 44, 'text': 'How many balloons would it take to lift a house like in the movie \"Up\"? Try to explain your answer. Your explanation should take the reader through your reasoning step-by-step.', 'category': 'fermi'}\n"
     ]
    },
    {
     "name": "stderr",
     "output_type": "stream",
     "text": [
      "Input length of input_ids is 34, but `max_length` is set to 30. This can lead to unexpected behavior. You should consider increasing `max_new_tokens`.\n",
      "Input length of input_ids is 31, but `max_length` is set to 30. This can lead to unexpected behavior. You should consider increasing `max_new_tokens`.\n",
      "Input length of input_ids is 34, but `max_length` is set to 30. This can lead to unexpected behavior. You should consider increasing `max_new_tokens`.\n",
      "Input length of input_ids is 33, but `max_length` is set to 30. This can lead to unexpected behavior. You should consider increasing `max_new_tokens`.\n",
      "Input length of input_ids is 38, but `max_length` is set to 30. This can lead to unexpected behavior. You should consider increasing `max_new_tokens`.\n"
     ]
    },
    {
     "name": "stdout",
     "output_type": "stream",
     "text": [
      "***Time cost:  0.04573488235473633\n",
      "\n",
      "*** res:  {'question_id': 44, 'text': 'How many balloons would it take to lift a house like in the movie \"Up\"? Try to explain your answer. Your explanation should take the reader through your reasoning step-by-step.', 'category': 'fermi', 'model_id': 'llama2-7b', 'metadata': {}, 'answer': 'How many balloons would it take to lift a house like in the movie \"Up\"? Try to explain your answer. Your explanation should take the reader through your reasoning step-by-step.\\n'}\n",
      "\n",
      ">>>inputs:  {'question_id': 45, 'text': 'How many text messages are sent globally in a minute? Try to explain your answer. Your explanation should take the reader through your reasoning step-by-step.', 'category': 'fermi'}\n",
      "***Time cost:  0.042429447174072266\n",
      "\n",
      "*** res:  {'question_id': 45, 'text': 'How many text messages are sent globally in a minute? Try to explain your answer. Your explanation should take the reader through your reasoning step-by-step.', 'category': 'fermi', 'model_id': 'llama2-7b', 'metadata': {}, 'answer': 'How many text messages are sent globally in a minute? Try to explain your answer. Your explanation should take the reader through your reasoning step-by-step.\\n'}\n",
      "\n",
      ">>>inputs:  {'question_id': 46, 'text': 'How many words are spoken daily on Earth? Try to explain your answer. Your explanation should take the reader through your reasoning step-by-step.', 'category': 'fermi'}\n",
      "***Time cost:  0.0415494441986084\n",
      "\n",
      "*** res:  {'question_id': 46, 'text': 'How many words are spoken daily on Earth? Try to explain your answer. Your explanation should take the reader through your reasoning step-by-step.', 'category': 'fermi', 'model_id': 'llama2-7b', 'metadata': {}, 'answer': 'How many words are spoken daily on Earth? Try to explain your answer. Your explanation should take the reader through your reasoning step-by-step.\\n'}\n",
      "\n",
      ">>>inputs:  {'question_id': 47, 'text': 'How many snowflakes fall during a typical winter? Try to explain your answer. Your explanation should take the reader through your reasoning step-by-step.', 'category': 'fermi'}\n",
      "***Time cost:  0.042186737060546875\n",
      "\n",
      "*** res:  {'question_id': 47, 'text': 'How many snowflakes fall during a typical winter? Try to explain your answer. Your explanation should take the reader through your reasoning step-by-step.', 'category': 'fermi', 'model_id': 'llama2-7b', 'metadata': {}, 'answer': 'How many snowflakes fall during a typical winter? Try to explain your answer. Your explanation should take the reader through your reasoning step-by-step.\\n'}\n",
      "\n",
      ">>>inputs:  {'question_id': 48, 'text': 'How many pages are in all the books ever written? Try to explain your answer. Your explanation should take the reader through your reasoning step-by-step.', 'category': 'fermi'}\n",
      "***Time cost:  0.04231071472167969\n",
      "\n",
      "*** res:  {'question_id': 48, 'text': 'How many pages are in all the books ever written? Try to explain your answer. Your explanation should take the reader through your reasoning step-by-step.', 'category': 'fermi', 'model_id': 'llama2-7b', 'metadata': {}, 'answer': 'How many pages are in all the books ever written? Try to explain your answer. Your explanation should take the reader through your reasoning step-by-step.\\n'}\n",
      "\n",
      ">>>inputs:  {'question_id': 49, 'text': 'How many times has the Earth orbited the Sun since the beginning of life? Try to explain your answer. Your explanation should take the reader through your reasoning step-by-step.', 'category': 'fermi'}\n"
     ]
    },
    {
     "name": "stderr",
     "output_type": "stream",
     "text": [
      "Input length of input_ids is 31, but `max_length` is set to 30. This can lead to unexpected behavior. You should consider increasing `max_new_tokens`.\n"
     ]
    },
    {
     "name": "stdout",
     "output_type": "stream",
     "text": [
      "***Time cost:  0.044690847396850586\n",
      "\n",
      "*** res:  {'question_id': 49, 'text': 'How many times has the Earth orbited the Sun since the beginning of life? Try to explain your answer. Your explanation should take the reader through your reasoning step-by-step.', 'category': 'fermi', 'model_id': 'llama2-7b', 'metadata': {}, 'answer': 'How many times has the Earth orbited the Sun since the beginning of life? Try to explain your answer. Your explanation should take the reader through your reasoning step-by-step.\\n'}\n",
      "\n",
      ">>>inputs:  {'question_id': 50, 'text': 'How many songs have been recorded throughout history? Try to explain your answer. Your explanation should take the reader through your reasoning step-by-step.', 'category': 'fermi'}\n",
      "***Time cost:  0.0422515869140625\n",
      "\n",
      "*** res:  {'question_id': 50, 'text': 'How many songs have been recorded throughout history? Try to explain your answer. Your explanation should take the reader through your reasoning step-by-step.', 'category': 'fermi', 'model_id': 'llama2-7b', 'metadata': {}, 'answer': 'How many songs have been recorded throughout history? Try to explain your answer. Your explanation should take the reader through your reasoning step-by-step.\\n'}\n",
      "\n",
      ">>>inputs:  {'question_id': 51, 'text': 'What if the Internet had been invented during the Renaissance period?', 'category': 'counterfactual'}\n",
      "***Time cost:  0.6286153793334961\n",
      "\n",
      "*** res:  {'question_id': 51, 'text': 'What if the Internet had been invented during the Renaissance period?', 'category': 'counterfactual', 'model_id': 'llama2-7b', 'metadata': {}, 'answer': 'What if the Internet had been invented during the Renaissance period?\\nThe Internet is a relatively new invention, but it has already had a'}\n",
      "\n",
      ">>>inputs:  {'question_id': 52, 'text': 'What if the Aztecs had successfully repelled the Spanish conquistadors?', 'category': 'counterfactual'}\n",
      "***Time cost:  0.57362961769104\n",
      "\n",
      "*** res:  {'question_id': 52, 'text': 'What if the Aztecs had successfully repelled the Spanish conquistadors?', 'category': 'counterfactual', 'model_id': 'llama2-7b', 'metadata': {}, 'answer': 'What if the Aztecs had successfully repelled the Spanish conquistadors?\\nWhat if the Aztecs had successfully repelled the Spanish conquist'}\n",
      "\n",
      ">>>inputs:  {'question_id': 53, 'text': 'What if the Black Death had not occurred in the 14th century?', 'category': 'counterfactual'}\n",
      "***Time cost:  0.5321862697601318\n",
      "\n",
      "*** res:  {'question_id': 53, 'text': 'What if the Black Death had not occurred in the 14th century?', 'category': 'counterfactual', 'model_id': 'llama2-7b', 'metadata': {}, 'answer': 'What if the Black Death had not occurred in the 14th century?\\nThe Black Death was a devastating pandemic that swe'}\n",
      "\n",
      ">>>inputs:  {'question_id': 54, 'text': 'What if Isaac Newton had focused on biology instead of physics?', 'category': 'counterfactual'}\n",
      "***Time cost:  0.644355297088623\n",
      "\n",
      "*** res:  {'question_id': 54, 'text': 'What if Isaac Newton had focused on biology instead of physics?', 'category': 'counterfactual', 'model_id': 'llama2-7b', 'metadata': {}, 'answer': 'What if Isaac Newton had focused on biology instead of physics?\\nWhat if Isaac Newton had focused on biology instead of physics? What if'}\n",
      "\n",
      ">>>inputs:  {'question_id': 55, 'text': 'What if the Beatles had never formed as a band?', 'category': 'counterfactual'}\n",
      "***Time cost:  0.6941330432891846\n",
      "\n",
      "*** res:  {'question_id': 55, 'text': 'What if the Beatles had never formed as a band?', 'category': 'counterfactual', 'model_id': 'llama2-7b', 'metadata': {}, 'answer': 'What if the Beatles had never formed as a band?\\nWhat if the Beatles had never formed as a band? What if they had'}\n",
      "\n",
      ">>>inputs:  {'question_id': 56, 'text': 'What if Alan Turing had not cracked the Enigma code during World War II?', 'category': 'counterfactual'}\n",
      "***Time cost:  0.43555545806884766\n",
      "\n",
      "*** res:  {'question_id': 56, 'text': 'What if Alan Turing had not cracked the Enigma code during World War II?', 'category': 'counterfactual', 'model_id': 'llama2-7b', 'metadata': {}, 'answer': 'What if Alan Turing had not cracked the Enigma code during World War II?\\nThe Enigma code was a German cipher machine'}\n",
      "\n",
      ">>>inputs:  {'question_id': 57, 'text': 'What if the Suez Canal had never been constructed?', 'category': 'counterfactual'}\n",
      "***Time cost:  0.7327358722686768\n",
      "\n",
      "*** res:  {'question_id': 57, 'text': 'What if the Suez Canal had never been constructed?', 'category': 'counterfactual', 'model_id': 'llama2-7b', 'metadata': {}, 'answer': 'What if the Suez Canal had never been constructed?\\nThe Suez Canal was built in 1869, and it was a'}\n",
      "\n",
      ">>>inputs:  {'question_id': 58, 'text': 'What if the Maya civilization had never mysteriously collapsed?', 'category': 'counterfactual'}\n",
      "***Time cost:  0.5871996879577637\n",
      "\n",
      "*** res:  {'question_id': 58, 'text': 'What if the Maya civilization had never mysteriously collapsed?', 'category': 'counterfactual', 'model_id': 'llama2-7b', 'metadata': {}, 'answer': 'What if the Maya civilization had never mysteriously collapsed? What if the Maya had continued to thrive and develop? What if'}\n",
      "\n",
      ">>>inputs:  {'question_id': 59, 'text': 'What if Christopher Columbus had not discovered the Americas?', 'category': 'counterfactual'}\n",
      "***Time cost:  0.6880176067352295\n",
      "\n",
      "*** res:  {'question_id': 59, 'text': 'What if Christopher Columbus had not discovered the Americas?', 'category': 'counterfactual', 'model_id': 'llama2-7b', 'metadata': {}, 'answer': 'What if Christopher Columbus had not discovered the Americas?\\nWhat if Christopher Columbus had not discovered the Americas? What would the world'}\n",
      "\n",
      ">>>inputs:  {'question_id': 60, 'text': 'What if Vincent van Gogh had been a successful artist during his lifetime?', 'category': 'counterfactual'}\n",
      "***Time cost:  0.5234827995300293\n",
      "\n",
      "*** res:  {'question_id': 60, 'text': 'What if Vincent van Gogh had been a successful artist during his lifetime?', 'category': 'counterfactual', 'model_id': 'llama2-7b', 'metadata': {}, 'answer': 'What if Vincent van Gogh had been a successful artist during his lifetime?\\nThe Dutch painter Vincent van Gogh (185'}\n",
      "\n",
      ">>>inputs:  {'question_id': 61, 'text': 'Develop a C++ program that reads a text file line by line and counts the number of occurrences of a specific word in the file.', 'category': 'coding'}\n",
      "***Time cost:  0.04088640213012695\n",
      "\n",
      "*** res:  {'question_id': 61, 'text': 'Develop a C++ program that reads a text file line by line and counts the number of occurrences of a specific word in the file.', 'category': 'coding', 'model_id': 'llama2-7b', 'metadata': {}, 'answer': 'Develop a C++ program that reads a text file line by line and counts the number of occurrences of a specific word in the file.\\n'}\n",
      "\n",
      ">>>inputs:  {'question_id': 62, 'text': 'Implement a Python function to find the longest common subsequence of two input strings using dynamic programming.', 'category': 'coding'}\n",
      "***Time cost:  0.3662741184234619\n",
      "\n",
      "*** res:  {'question_id': 62, 'text': 'Implement a Python function to find the longest common subsequence of two input strings using dynamic programming.', 'category': 'coding', 'model_id': 'llama2-7b', 'metadata': {}, 'answer': 'Implement a Python function to find the longest common subsequence of two input strings using dynamic programming.\\n\\n### Example\\n\\n```python'}\n",
      "\n",
      ">>>inputs:  {'question_id': 63, 'text': 'Implement a regular expression in Python to validate an email address.', 'category': 'coding'}\n",
      "***Time cost:  0.653775691986084\n",
      "\n",
      "*** res:  {'question_id': 63, 'text': 'Implement a regular expression in Python to validate an email address.', 'category': 'coding', 'model_id': 'llama2-7b', 'metadata': {}, 'answer': 'Implement a regular expression in Python to validate an email address.\\nImplement a regular expression in Python to validate an email address. The regular'}\n",
      "\n",
      ">>>inputs:  {'question_id': 64, 'text': 'Write a program to find the nth Fibonacci number using dynamic programming.', 'category': 'coding'}\n",
      "***Time cost:  0.4945235252380371\n",
      "\n",
      "*** res:  {'question_id': 64, 'text': 'Write a program to find the nth Fibonacci number using dynamic programming.', 'category': 'coding', 'model_id': 'llama2-7b', 'metadata': {}, 'answer': 'Write a program to find the nth Fibonacci number using dynamic programming.\\nWrite a program to find the nth Fibon'}\n",
      "\n",
      ">>>inputs:  {'question_id': 65, 'text': 'Implement a binary search algorithm to find a specific element in a sorted array.', 'category': 'coding'}\n",
      "***Time cost:  0.5421185493469238\n",
      "\n",
      "*** res:  {'question_id': 65, 'text': 'Implement a binary search algorithm to find a specific element in a sorted array.', 'category': 'coding', 'model_id': 'llama2-7b', 'metadata': {}, 'answer': 'Implement a binary search algorithm to find a specific element in a sorted array.\\n\\n### Example\\n\\n```javascript\\nconst binarySearch'}\n",
      "\n",
      ">>>inputs:  {'question_id': 66, 'text': 'Implement a queue data structure using two stacks in Python.', 'category': 'coding'}\n",
      "***Time cost:  0.6548042297363281\n",
      "\n",
      "*** res:  {'question_id': 66, 'text': 'Implement a queue data structure using two stacks in Python.', 'category': 'coding', 'model_id': 'llama2-7b', 'metadata': {}, 'answer': 'Implement a queue data structure using two stacks in Python.\\nA queue is a data structure that is used to store data in a first'}\n",
      "\n",
      ">>>inputs:  {'question_id': 67, 'text': 'Implement a program to find the common elements in two arrays without using any extra data structures.', 'category': 'coding'}\n",
      "***Time cost:  0.423309326171875\n",
      "\n",
      "*** res:  {'question_id': 67, 'text': 'Implement a program to find the common elements in two arrays without using any extra data structures.', 'category': 'coding', 'model_id': 'llama2-7b', 'metadata': {}, 'answer': 'Implement a program to find the common elements in two arrays without using any extra data structures.\\n\\n### Example\\n\\n```\\nInput'}\n",
      "\n",
      ">>>inputs:  {'question_id': 68, 'text': 'Given that f(x) = 5x^3 - 2x + 3, find the value of f(2).', 'category': 'math'}\n",
      "***Time cost:  0.04426169395446777\n",
      "\n",
      "*** res:  {'question_id': 68, 'text': 'Given that f(x) = 5x^3 - 2x + 3, find the value of f(2).', 'category': 'math', 'model_id': 'llama2-7b', 'metadata': {}, 'answer': 'Given that f(x) = 5x^3 - 2x + 3, find the value of f(2).\\n'}\n",
      "\n",
      ">>>inputs:  {'question_id': 69, 'text': 'Solve for x in the equation 3x + 10 = 5(x - 2).', 'category': 'math'}\n"
     ]
    },
    {
     "name": "stderr",
     "output_type": "stream",
     "text": [
      "Input length of input_ids is 32, but `max_length` is set to 30. This can lead to unexpected behavior. You should consider increasing `max_new_tokens`.\n"
     ]
    },
    {
     "name": "stdout",
     "output_type": "stream",
     "text": [
      "***Time cost:  0.2520482540130615\n",
      "\n",
      "*** res:  {'question_id': 69, 'text': 'Solve for x in the equation 3x + 10 = 5(x - 2).', 'category': 'math', 'model_id': 'llama2-7b', 'metadata': {}, 'answer': 'Solve for x in the equation 3x + 10 = 5(x - 2).\\nSolve for x in'}\n",
      "\n",
      ">>>inputs:  {'question_id': 70, 'text': 'If the endpoints of a line segment are (2, -2) and (10, 4), what is the length of the segment?', 'category': 'math'}\n",
      "***Time cost:  0.04380679130554199\n",
      "\n",
      "*** res:  {'question_id': 70, 'text': 'If the endpoints of a line segment are (2, -2) and (10, 4), what is the length of the segment?', 'category': 'math', 'model_id': 'llama2-7b', 'metadata': {}, 'answer': 'If the endpoints of a line segment are (2, -2) and (10, 4), what is the length of the segment?\\n'}\n",
      "\n",
      ">>>inputs:  {'question_id': 71, 'text': 'Can you help me write a formal email to a potential business partner proposing a joint venture?', 'category': 'writing'}\n"
     ]
    },
    {
     "name": "stderr",
     "output_type": "stream",
     "text": [
      "Input length of input_ids is 32, but `max_length` is set to 30. This can lead to unexpected behavior. You should consider increasing `max_new_tokens`.\n"
     ]
    },
    {
     "name": "stdout",
     "output_type": "stream",
     "text": [
      "***Time cost:  0.37207937240600586\n",
      "\n",
      "*** res:  {'question_id': 71, 'text': 'Can you help me write a formal email to a potential business partner proposing a joint venture?', 'category': 'writing', 'model_id': 'llama2-7b', 'metadata': {}, 'answer': 'Can you help me write a formal email to a potential business partner proposing a joint venture?\\nI am a businessman from the United'}\n",
      "\n",
      ">>>inputs:  {'question_id': 72, 'text': 'Can you help me write a resignation letter to my current employer, while leaving on good terms and expressing gratitude for the opportunities provided?', 'category': 'writing'}\n",
      "***Time cost:  0.04265594482421875\n",
      "\n",
      "*** res:  {'question_id': 72, 'text': 'Can you help me write a resignation letter to my current employer, while leaving on good terms and expressing gratitude for the opportunities provided?', 'category': 'writing', 'model_id': 'llama2-7b', 'metadata': {}, 'answer': 'Can you help me write a resignation letter to my current employer, while leaving on good terms and expressing gratitude for the opportunities provided?\\n'}\n",
      "\n",
      ">>>inputs:  {'question_id': 73, 'text': 'Use an appropriate format to structure a formal letter of recommendation for a student applying to a prestigious graduate program in computer science.', 'category': 'writing'}\n",
      "***Time cost:  0.08365440368652344\n",
      "\n",
      "*** res:  {'question_id': 73, 'text': 'Use an appropriate format to structure a formal letter of recommendation for a student applying to a prestigious graduate program in computer science.', 'category': 'writing', 'model_id': 'llama2-7b', 'metadata': {}, 'answer': 'Use an appropriate format to structure a formal letter of recommendation for a student applying to a prestigious graduate program in computer science.\\nThe'}\n",
      "\n",
      ">>>inputs:  {'question_id': 74, 'text': 'Write a compelling product launch announcement email to inform our customers of our new software solution.', 'category': 'writing'}\n"
     ]
    },
    {
     "name": "stderr",
     "output_type": "stream",
     "text": [
      "Input length of input_ids is 30, but `max_length` is set to 30. This can lead to unexpected behavior. You should consider increasing `max_new_tokens`.\n"
     ]
    },
    {
     "name": "stdout",
     "output_type": "stream",
     "text": [
      "***Time cost:  0.40613722801208496\n",
      "\n",
      "*** res:  {'question_id': 74, 'text': 'Write a compelling product launch announcement email to inform our customers of our new software solution.', 'category': 'writing', 'model_id': 'llama2-7b', 'metadata': {}, 'answer': 'Write a compelling product launch announcement email to inform our customers of our new software solution.\\nWrite a compelling product launch announcement email'}\n",
      "\n",
      ">>>inputs:  {'question_id': 75, 'text': 'Draft an apology email to a customer who experienced a delay in their order, and provide reassurance that the issue has been resolved.', 'category': 'writing'}\n",
      "***Time cost:  0.041651010513305664\n",
      "\n",
      "*** res:  {'question_id': 75, 'text': 'Draft an apology email to a customer who experienced a delay in their order, and provide reassurance that the issue has been resolved.', 'category': 'writing', 'model_id': 'llama2-7b', 'metadata': {}, 'answer': 'Draft an apology email to a customer who experienced a delay in their order, and provide reassurance that the issue has been resolved.\\n'}\n",
      "\n",
      ">>>inputs:  {'question_id': 76, 'text': 'Write a script for a YouTube video exploring the history and cultural significance of jazz.', 'category': 'writing'}\n",
      "***Time cost:  0.4792368412017822\n",
      "\n",
      "*** res:  {'question_id': 76, 'text': 'Write a script for a YouTube video exploring the history and cultural significance of jazz.', 'category': 'writing', 'model_id': 'llama2-7b', 'metadata': {}, 'answer': 'Write a script for a YouTube video exploring the history and cultural significance of jazz.\\nWrite a script for a YouTube video exploring the history'}\n",
      "\n",
      ">>>inputs:  {'question_id': 77, 'text': 'Compose an engaging travel blog post about a recent trip to Hawaii, highlighting cultural experiences and must-see attractions.', 'category': 'writing'}\n",
      "***Time cost:  0.08366966247558594\n",
      "\n",
      "*** res:  {'question_id': 77, 'text': 'Compose an engaging travel blog post about a recent trip to Hawaii, highlighting cultural experiences and must-see attractions.', 'category': 'writing', 'model_id': 'llama2-7b', 'metadata': {}, 'answer': 'Compose an engaging travel blog post about a recent trip to Hawaii, highlighting cultural experiences and must-see attractions.\\nThe'}\n",
      "\n",
      ">>>inputs:  {'question_id': 78, 'text': 'Write a captivating movie review for a recently released science fiction film, discussing its plot, characters, and special effects.', 'category': 'writing'}\n",
      "***Time cost:  0.13633966445922852\n",
      "\n",
      "*** res:  {'question_id': 78, 'text': 'Write a captivating movie review for a recently released science fiction film, discussing its plot, characters, and special effects.', 'category': 'writing', 'model_id': 'llama2-7b', 'metadata': {}, 'answer': 'Write a captivating movie review for a recently released science fiction film, discussing its plot, characters, and special effects.\\nWrite a'}\n",
      "\n",
      ">>>inputs:  {'question_id': 79, 'text': 'Structure a podcast script for an episode discussing the influence of streaming platforms on the music industry.', 'category': 'writing'}\n",
      "***Time cost:  0.33447742462158203\n",
      "\n",
      "*** res:  {'question_id': 79, 'text': 'Structure a podcast script for an episode discussing the influence of streaming platforms on the music industry.', 'category': 'writing', 'model_id': 'llama2-7b', 'metadata': {}, 'answer': 'Structure a podcast script for an episode discussing the influence of streaming platforms on the music industry.\\nThe podcast script should be '}\n",
      "\n",
      ">>>inputs:  {'question_id': 80, 'text': \"Write a symphony concert review, discussing the orchestra's performance and overall audience experience.\", 'category': 'writing'}\n",
      "***Time cost:  0.38413190841674805\n",
      "\n",
      "*** res:  {'question_id': 80, 'text': \"Write a symphony concert review, discussing the orchestra's performance and overall audience experience.\", 'category': 'writing', 'model_id': 'llama2-7b', 'metadata': {}, 'answer': \"Write a symphony concert review, discussing the orchestra's performance and overall audience experience.\\nWrite a symphony concert review, discuss\"}\n",
      "** Dump data finished !\n",
      "\n"
     ]
    }
   ],
   "source": [
    "model_name = 'llama2-7b'\n",
    "out_file = '/mnt/workspace/llm-eval/data/answer_llama2-7b.jsonl'\n",
    "\n",
    "get_answers(model_name, model, tokenizer, ques_list, out_file)\n"
   ]
  },
  {
   "cell_type": "code",
   "execution_count": null,
   "metadata": {},
   "outputs": [],
   "source": []
  }
 ],
 "metadata": {
  "kernelspec": {
   "display_name": "Python 3 (ipykernel)",
   "language": "python",
   "name": "python3"
  },
  "language_info": {
   "codemirror_mode": {
    "name": "ipython",
    "version": 3
   },
   "file_extension": ".py",
   "mimetype": "text/x-python",
   "name": "python",
   "nbconvert_exporter": "python",
   "pygments_lexer": "ipython3",
   "version": "3.8.16"
  }
 },
 "nbformat": 4,
 "nbformat_minor": 4
}
